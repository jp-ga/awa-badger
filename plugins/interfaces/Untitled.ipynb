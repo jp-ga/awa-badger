{
 "cells": [
  {
   "cell_type": "code",
   "execution_count": 1,
   "id": "def9ea52-bdeb-481b-9063-03bb535a5a5b",
   "metadata": {},
   "outputs": [],
   "source": [
    "from camera import AWACamera"
   ]
  },
  {
   "cell_type": "code",
   "execution_count": 2,
   "id": "27288630-852b-4b8e-b1f1-5df11daabf79",
   "metadata": {},
   "outputs": [
    {
     "ename": "ModuleNotFoundError",
     "evalue": "No module named 'win32com'",
     "output_type": "error",
     "traceback": [
      "\u001b[0;31m---------------------------------------------------------------------------\u001b[0m",
      "\u001b[0;31mModuleNotFoundError\u001b[0m                       Traceback (most recent call last)",
      "Cell \u001b[0;32mIn[2], line 1\u001b[0m\n\u001b[0;32m----> 1\u001b[0m c \u001b[38;5;241m=\u001b[39m \u001b[43mAWACamera\u001b[49m\u001b[43m(\u001b[49m\u001b[38;5;124;43m\"\u001b[39;49m\u001b[38;5;124;43mNIFG\u001b[39;49m\u001b[38;5;124;43m\"\u001b[39;49m\u001b[43m)\u001b[49m\n",
      "File \u001b[0;32m~/awa-badger/plugins/interfaces/camera.py:28\u001b[0m, in \u001b[0;36mAWACamera.__init__\u001b[0;34m(self, camera_type)\u001b[0m\n\u001b[1;32m     25\u001b[0m \u001b[38;5;66;03m# initialize connections\u001b[39;00m\n\u001b[1;32m     26\u001b[0m \u001b[38;5;28;01mif\u001b[39;00m \u001b[38;5;129;01mnot\u001b[39;00m \u001b[38;5;28mself\u001b[39m\u001b[38;5;241m.\u001b[39mtesting:\n\u001b[1;32m     27\u001b[0m     \u001b[38;5;66;03m# lazy import if not testing\u001b[39;00m\n\u001b[0;32m---> 28\u001b[0m     \u001b[38;5;28;01mfrom\u001b[39;00m \u001b[38;5;21;01mwin32com\u001b[39;00m \u001b[38;5;28;01mimport\u001b[39;00m client\n\u001b[1;32m     30\u001b[0m     \u001b[38;5;66;03m# no idea what this is -- used for gating measurement\u001b[39;00m\n\u001b[1;32m     31\u001b[0m     \u001b[38;5;28mself\u001b[39m\u001b[38;5;241m.\u001b[39musb_dio_client \u001b[38;5;241m=\u001b[39m client\u001b[38;5;241m.\u001b[39mDispatch(\u001b[38;5;124m\"\u001b[39m\u001b[38;5;124mUSBDIOCtrl.Application\u001b[39m\u001b[38;5;124m\"\u001b[39m)\n",
      "\u001b[0;31mModuleNotFoundError\u001b[0m: No module named 'win32com'"
     ]
    }
   ],
   "source": [
    "c = AWACamera(\"NIFG\")"
   ]
  },
  {
   "cell_type": "code",
   "execution_count": null,
   "id": "00d7d9cf-009a-46fd-881b-53170a9e3271",
   "metadata": {},
   "outputs": [],
   "source": []
  }
 ],
 "metadata": {
  "kernelspec": {
   "display_name": "Python 3 (ipykernel)",
   "language": "python",
   "name": "python3"
  },
  "language_info": {
   "codemirror_mode": {
    "name": "ipython",
    "version": 3
   },
   "file_extension": ".py",
   "mimetype": "text/x-python",
   "name": "python",
   "nbconvert_exporter": "python",
   "pygments_lexer": "ipython3",
   "version": "3.9.18"
  }
 },
 "nbformat": 4,
 "nbformat_minor": 5
}
