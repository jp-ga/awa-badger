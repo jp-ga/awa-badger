{
 "cells": [
  {
   "cell_type": "markdown",
   "metadata": {},
   "source": [
    "## Test AWA Environment/Interface Plugins"
   ]
  },
  {
   "cell_type": "code",
   "execution_count": 1,
   "metadata": {},
   "outputs": [
    {
     "data": {
      "text/plain": [
       "{'AWA:Bira3Ctrl:Ch00': [0.0, 1.0],\n",
       " 'AWA:Bira2Ctrl:Ch00': [0.0, 1.0],\n",
       " 'AWA:Drive:DS1:Ctrl': [6.05, 9.07],\n",
       " 'AWA:Drive:DS3:Ctrl': [0.0, 2.5],\n",
       " 'AWA:Bira3Ctrl:Ch03': [-0.5, 0.5],\n",
       " 'AWA:Bira3Ctrl:Ch04': [-0.5, 0.5],\n",
       " 'AWA:Bira3Ctrl:Ch05': [-0.5, 0.5]}"
      ]
     },
     "execution_count": 1,
     "metadata": {},
     "output_type": "execute_result"
    }
   ],
   "source": [
    "from plugins.environments.awa_environment import AWAEnvironment\n",
    "from plugins.interfaces.test_awa_interface import TestAWAInterface\n",
    "\n",
    "# import data from csv file\n",
    "import pandas as pd\n",
    "variable_file = \"plugins/environments/awa_variables.csv\"\n",
    "observable_file = \"plugins/environments/awa_observables.csv\"\n",
    "variable_info = pd.read_csv(variable_file).set_index(\"NAME\")\n",
    "observable_info = pd.read_csv(observable_file).set_index(\"NAME\").T\n",
    "\n",
    "variables = variable_info[[\"MIN\",\"MAX\"]].T.to_dict()\n",
    "observables = list(observable_info.keys())\n",
    "\n",
    "for name in variables:\n",
    "    variables[name] = [variables[name][\"MIN\"], variables[name][\"MAX\"]]\n",
    "variables"
   ]
  },
  {
   "cell_type": "code",
   "execution_count": 2,
   "metadata": {},
   "outputs": [],
   "source": [
    "env = AWAEnvironment(variable_file, observable_file, interface=TestAWAInterface())"
   ]
  },
  {
   "cell_type": "code",
   "execution_count": 3,
   "metadata": {
    "jupyter": {
     "outputs_hidden": false
    }
   },
   "outputs": [
    {
     "data": {
      "text/plain": [
       "{'name': 'awa_environment',\n",
       " 'interface': {'name': 'awa_interface', 'params': {}, 'x': None, 'y': None},\n",
       " 'variables': {'AWA:Bira3Ctrl:Ch00': [0.0, 1.0],\n",
       "  'AWA:Bira2Ctrl:Ch00': [0.0, 1.0],\n",
       "  'AWA:Drive:DS1:Ctrl': [6.05, 9.07],\n",
       "  'AWA:Drive:DS3:Ctrl': [0.0, 2.5],\n",
       "  'AWA:Bira3Ctrl:Ch03': [-0.5, 0.5],\n",
       "  'AWA:Bira3Ctrl:Ch04': [-0.5, 0.5],\n",
       "  'AWA:Bira3Ctrl:Ch05': [-0.5, 0.5]},\n",
       " 'observables': ['TEST:XRMS',\n",
       "  'TEST:YRMS',\n",
       "  'AWAICTMon:Ch1',\n",
       "  'AWAICTMon:Ch2',\n",
       "  'AWAICTMon:Ch3',\n",
       "  'AWAICTMon:Ch4',\n",
       "  '13ARV1:Stats1:CentroidX_RBV',\n",
       "  '13ARV1:Stats1:CentroidY_RBV',\n",
       "  '13ARV1:Stats1:SigmaX_RBV',\n",
       "  '13ARV1:Stats1:SigmaY_RBV'],\n",
       " 'params': {},\n",
       " 'target_charge_PV': 'AWAICTMon:Ch1',\n",
       " 'target_charge': None,\n",
       " 'fractional_charge_deviation': 0.1}"
      ]
     },
     "execution_count": 3,
     "metadata": {},
     "output_type": "execute_result"
    }
   ],
   "source": [
    "env.dict()"
   ]
  },
  {
   "cell_type": "code",
   "execution_count": 4,
   "metadata": {
    "jupyter": {
     "outputs_hidden": false
    }
   },
   "outputs": [],
   "source": [
    "env.set_variables({\"AWA:Bira3Ctrl:Ch00\": 0.5})"
   ]
  },
  {
   "cell_type": "code",
   "execution_count": 5,
   "metadata": {
    "jupyter": {
     "outputs_hidden": false
    }
   },
   "outputs": [
    {
     "data": {
      "text/plain": [
       "{'TEST:YRMS': 0.0, 'TEST:XRMS': 0.5}"
      ]
     },
     "execution_count": 5,
     "metadata": {},
     "output_type": "execute_result"
    }
   ],
   "source": [
    "env.get_observables([\"TEST:XRMS\",\"TEST:YRMS\"])"
   ]
  },
  {
   "cell_type": "code",
   "execution_count": 6,
   "metadata": {},
   "outputs": [
    {
     "name": "stdout",
     "output_type": "stream",
     "text": [
      "['TEST:XRMS', 'TEST:YRMS', 'AWAICTMon:Ch1', 'AWAICTMon:Ch2', 'AWAICTMon:Ch3', 'AWAICTMon:Ch4', '13ARV1:Stats1:CentroidX_RBV', '13ARV1:Stats1:CentroidY_RBV', '13ARV1:Stats1:SigmaX_RBV', '13ARV1:Stats1:SigmaY_RBV']\n"
     ]
    }
   ],
   "source": [
    "print(env.observables)"
   ]
  },
  {
   "cell_type": "markdown",
   "metadata": {},
   "source": [
    "## Test with Xopt BE"
   ]
  },
  {
   "cell_type": "code",
   "execution_count": 7,
   "metadata": {
    "jupyter": {
     "outputs_hidden": false
    }
   },
   "outputs": [],
   "source": [
    "from xopt import Xopt, Evaluator, VOCS\n",
    "from xopt.generators.bayesian import BayesianExplorationGenerator\n",
    "from xopt.generators.bayesian.options import BayesianOptions, ModelOptions\n",
    "from model import StandardModelConstructor\n",
    "\n",
    "def evaluate(inputs):\n",
    "    env.set_variables(inputs)\n",
    "    return env.get_observables([\"TEST:XRMS\", \"TEST:YRMS\"])\n",
    "\n",
    "# remove one variable\n",
    "variables = dict((name, env.variables[name]) for name in [\"AWA:Bira3Ctrl:Ch00\"])\n",
    "vocs = VOCS(variables=variables,\n",
    "            objectives={\"TEST:XRMS\":\"MINIMIZE\"},\n",
    "            constraints={\"TEST:YRMS\":[\"GREATER_THAN\",0.0]})\n",
    "\n",
    "model_constructor = StandardModelConstructor(vocs, ModelOptions())\n",
    "options = BayesianOptions(model=ModelOptions(custom_constructor=model_constructor))\n",
    "\n",
    "generator = BayesianExplorationGenerator(vocs)\n",
    "evaluator = Evaluator(function=evaluate)\n",
    "X = Xopt(vocs=vocs, evaluator=evaluator, generator=generator)"
   ]
  },
  {
   "cell_type": "code",
   "execution_count": 8,
   "metadata": {
    "jupyter": {
     "outputs_hidden": false
    }
   },
   "outputs": [
    {
     "data": {
      "text/plain": [
       "{'variables': {'AWA:Bira3Ctrl:Ch00': [0.0, 1.0]},\n",
       " 'constraints': {'TEST:YRMS': ['GREATER_THAN', 0.0]},\n",
       " 'objectives': {'TEST:XRMS': 'MINIMIZE'},\n",
       " 'constants': {},\n",
       " 'linked_variables': {}}"
      ]
     },
     "execution_count": 8,
     "metadata": {},
     "output_type": "execute_result"
    }
   ],
   "source": [
    "vocs.dict()"
   ]
  },
  {
   "cell_type": "code",
   "execution_count": 9,
   "metadata": {
    "jupyter": {
     "outputs_hidden": false
    }
   },
   "outputs": [
    {
     "data": {
      "text/html": [
       "<div>\n",
       "<style scoped>\n",
       "    .dataframe tbody tr th:only-of-type {\n",
       "        vertical-align: middle;\n",
       "    }\n",
       "\n",
       "    .dataframe tbody tr th {\n",
       "        vertical-align: top;\n",
       "    }\n",
       "\n",
       "    .dataframe thead th {\n",
       "        text-align: right;\n",
       "    }\n",
       "</style>\n",
       "<table border=\"1\" class=\"dataframe\">\n",
       "  <thead>\n",
       "    <tr style=\"text-align: right;\">\n",
       "      <th></th>\n",
       "      <th>AWA:Bira3Ctrl:Ch00</th>\n",
       "      <th>TEST:YRMS</th>\n",
       "      <th>TEST:XRMS</th>\n",
       "      <th>xopt_runtime</th>\n",
       "      <th>xopt_error</th>\n",
       "    </tr>\n",
       "  </thead>\n",
       "  <tbody>\n",
       "    <tr>\n",
       "      <th>1</th>\n",
       "      <td>0.0</td>\n",
       "      <td>0.5</td>\n",
       "      <td>0.0</td>\n",
       "      <td>0.00015</td>\n",
       "      <td>False</td>\n",
       "    </tr>\n",
       "    <tr>\n",
       "      <th>2</th>\n",
       "      <td>0.1</td>\n",
       "      <td>0.4</td>\n",
       "      <td>0.1</td>\n",
       "      <td>0.00009</td>\n",
       "      <td>False</td>\n",
       "    </tr>\n",
       "  </tbody>\n",
       "</table>\n",
       "</div>"
      ],
      "text/plain": [
       "   AWA:Bira3Ctrl:Ch00  TEST:YRMS  TEST:XRMS  xopt_runtime  xopt_error\n",
       "1                 0.0        0.5        0.0       0.00015       False\n",
       "2                 0.1        0.4        0.1       0.00009       False"
      ]
     },
     "execution_count": 9,
     "metadata": {},
     "output_type": "execute_result"
    }
   ],
   "source": [
    "import pandas as pd\n",
    "X.evaluate_data(pd.DataFrame({\"AWA:Bira3Ctrl:Ch00\":[0.0,0.1]}))\n",
    "X.data"
   ]
  },
  {
   "cell_type": "code",
   "execution_count": 10,
   "metadata": {
    "jupyter": {
     "outputs_hidden": false
    }
   },
   "outputs": [],
   "source": [
    "for i in range(15):\n",
    "    X.step()"
   ]
  },
  {
   "cell_type": "code",
   "execution_count": 17,
   "metadata": {
    "jupyter": {
     "outputs_hidden": false
    }
   },
   "outputs": [
    {
     "data": {
      "text/html": [
       "<div>\n",
       "<style scoped>\n",
       "    .dataframe tbody tr th:only-of-type {\n",
       "        vertical-align: middle;\n",
       "    }\n",
       "\n",
       "    .dataframe tbody tr th {\n",
       "        vertical-align: top;\n",
       "    }\n",
       "\n",
       "    .dataframe thead th {\n",
       "        text-align: right;\n",
       "    }\n",
       "</style>\n",
       "<table border=\"1\" class=\"dataframe\">\n",
       "  <thead>\n",
       "    <tr style=\"text-align: right;\">\n",
       "      <th></th>\n",
       "      <th>AWA:Bira3Ctrl:Ch00</th>\n",
       "      <th>TEST:YRMS</th>\n",
       "      <th>TEST:XRMS</th>\n",
       "      <th>xopt_runtime</th>\n",
       "      <th>xopt_error</th>\n",
       "    </tr>\n",
       "  </thead>\n",
       "  <tbody>\n",
       "    <tr>\n",
       "      <th>1</th>\n",
       "      <td>0.000000</td>\n",
       "      <td>0.500000</td>\n",
       "      <td>0.000000</td>\n",
       "      <td>0.000150</td>\n",
       "      <td>False</td>\n",
       "    </tr>\n",
       "    <tr>\n",
       "      <th>2</th>\n",
       "      <td>0.100000</td>\n",
       "      <td>0.400000</td>\n",
       "      <td>0.100000</td>\n",
       "      <td>0.000090</td>\n",
       "      <td>False</td>\n",
       "    </tr>\n",
       "    <tr>\n",
       "      <th>3</th>\n",
       "      <td>1.000000</td>\n",
       "      <td>-0.500000</td>\n",
       "      <td>1.000000</td>\n",
       "      <td>0.000074</td>\n",
       "      <td>False</td>\n",
       "    </tr>\n",
       "    <tr>\n",
       "      <th>4</th>\n",
       "      <td>0.365456</td>\n",
       "      <td>0.134544</td>\n",
       "      <td>0.365456</td>\n",
       "      <td>0.000073</td>\n",
       "      <td>False</td>\n",
       "    </tr>\n",
       "    <tr>\n",
       "      <th>5</th>\n",
       "      <td>0.430037</td>\n",
       "      <td>NaN</td>\n",
       "      <td>0.430037</td>\n",
       "      <td>0.000073</td>\n",
       "      <td>False</td>\n",
       "    </tr>\n",
       "    <tr>\n",
       "      <th>6</th>\n",
       "      <td>0.233620</td>\n",
       "      <td>NaN</td>\n",
       "      <td>0.233620</td>\n",
       "      <td>0.000073</td>\n",
       "      <td>False</td>\n",
       "    </tr>\n",
       "    <tr>\n",
       "      <th>7</th>\n",
       "      <td>0.475495</td>\n",
       "      <td>NaN</td>\n",
       "      <td>0.475495</td>\n",
       "      <td>0.000076</td>\n",
       "      <td>False</td>\n",
       "    </tr>\n",
       "    <tr>\n",
       "      <th>8</th>\n",
       "      <td>0.485796</td>\n",
       "      <td>NaN</td>\n",
       "      <td>0.485796</td>\n",
       "      <td>0.000073</td>\n",
       "      <td>False</td>\n",
       "    </tr>\n",
       "    <tr>\n",
       "      <th>9</th>\n",
       "      <td>0.161485</td>\n",
       "      <td>NaN</td>\n",
       "      <td>0.161485</td>\n",
       "      <td>0.000075</td>\n",
       "      <td>False</td>\n",
       "    </tr>\n",
       "    <tr>\n",
       "      <th>10</th>\n",
       "      <td>0.000000</td>\n",
       "      <td>0.500000</td>\n",
       "      <td>0.000000</td>\n",
       "      <td>0.000073</td>\n",
       "      <td>False</td>\n",
       "    </tr>\n",
       "    <tr>\n",
       "      <th>11</th>\n",
       "      <td>0.298514</td>\n",
       "      <td>0.201486</td>\n",
       "      <td>0.298514</td>\n",
       "      <td>0.000075</td>\n",
       "      <td>False</td>\n",
       "    </tr>\n",
       "    <tr>\n",
       "      <th>12</th>\n",
       "      <td>0.070599</td>\n",
       "      <td>0.429401</td>\n",
       "      <td>0.070599</td>\n",
       "      <td>0.000089</td>\n",
       "      <td>False</td>\n",
       "    </tr>\n",
       "    <tr>\n",
       "      <th>13</th>\n",
       "      <td>0.377816</td>\n",
       "      <td>0.122184</td>\n",
       "      <td>0.377816</td>\n",
       "      <td>0.000075</td>\n",
       "      <td>False</td>\n",
       "    </tr>\n",
       "    <tr>\n",
       "      <th>14</th>\n",
       "      <td>0.488796</td>\n",
       "      <td>0.011204</td>\n",
       "      <td>0.488796</td>\n",
       "      <td>0.000074</td>\n",
       "      <td>False</td>\n",
       "    </tr>\n",
       "    <tr>\n",
       "      <th>15</th>\n",
       "      <td>0.000000</td>\n",
       "      <td>0.500000</td>\n",
       "      <td>0.000000</td>\n",
       "      <td>0.000078</td>\n",
       "      <td>False</td>\n",
       "    </tr>\n",
       "    <tr>\n",
       "      <th>16</th>\n",
       "      <td>0.216571</td>\n",
       "      <td>0.283429</td>\n",
       "      <td>0.216571</td>\n",
       "      <td>0.000072</td>\n",
       "      <td>False</td>\n",
       "    </tr>\n",
       "    <tr>\n",
       "      <th>17</th>\n",
       "      <td>0.077525</td>\n",
       "      <td>0.422475</td>\n",
       "      <td>0.077525</td>\n",
       "      <td>0.000093</td>\n",
       "      <td>False</td>\n",
       "    </tr>\n",
       "  </tbody>\n",
       "</table>\n",
       "</div>"
      ],
      "text/plain": [
       "    AWA:Bira3Ctrl:Ch00  TEST:YRMS  TEST:XRMS  xopt_runtime  xopt_error\n",
       "1             0.000000   0.500000   0.000000      0.000150       False\n",
       "2             0.100000   0.400000   0.100000      0.000090       False\n",
       "3             1.000000  -0.500000   1.000000      0.000074       False\n",
       "4             0.365456   0.134544   0.365456      0.000073       False\n",
       "5             0.430037        NaN   0.430037      0.000073       False\n",
       "6             0.233620        NaN   0.233620      0.000073       False\n",
       "7             0.475495        NaN   0.475495      0.000076       False\n",
       "8             0.485796        NaN   0.485796      0.000073       False\n",
       "9             0.161485        NaN   0.161485      0.000075       False\n",
       "10            0.000000   0.500000   0.000000      0.000073       False\n",
       "11            0.298514   0.201486   0.298514      0.000075       False\n",
       "12            0.070599   0.429401   0.070599      0.000089       False\n",
       "13            0.377816   0.122184   0.377816      0.000075       False\n",
       "14            0.488796   0.011204   0.488796      0.000074       False\n",
       "15            0.000000   0.500000   0.000000      0.000078       False\n",
       "16            0.216571   0.283429   0.216571      0.000072       False\n",
       "17            0.077525   0.422475   0.077525      0.000093       False"
      ]
     },
     "metadata": {},
     "output_type": "display_data"
    }
   ],
   "source": [
    "import numpy as np\n",
    "\n",
    "for i in range(5,10):\n",
    "    X.data.at[i,\"TEST:YRMS\"] = None\n",
    "\n",
    "display(X.data)"
   ]
  },
  {
   "cell_type": "code",
   "execution_count": 18,
   "metadata": {},
   "outputs": [],
   "source": [
    "model = X.generator.train_model()"
   ]
  },
  {
   "cell_type": "code",
   "execution_count": 19,
   "metadata": {
    "jupyter": {
     "outputs_hidden": false
    }
   },
   "outputs": [
    {
     "data": {
      "text/plain": [
       "<Axes: xlabel='AWA:Bira3Ctrl:Ch00'>"
      ]
     },
     "execution_count": 19,
     "metadata": {},
     "output_type": "execute_result"
    },
    {
     "data": {
      "image/png": "[encoded data removed]",
      "text/plain": [
       "<Figure size 640x480 with 1 Axes>"
      ]
     },
     "metadata": {},
     "output_type": "display_data"
    }
   ],
   "source": [
    "import os\n",
    "os.environ[\"KMP_DUPLICATE_LIB_OK\"]=\"TRUE\"\n",
    "\n",
    "X.data.plot(x=\"AWA:Bira3Ctrl:Ch00\", y=[\"TEST:XRMS\",\"TEST:YRMS\"],style=\"o\")"
   ]
  },
  {
   "cell_type": "code",
   "execution_count": 20,
   "metadata": {},
   "outputs": [
    {
     "data": {
      "image/png": "[encoded data removed]",
      "text/plain": [
       "<Figure size 640x480 with 1 Axes>"
      ]
     },
     "metadata": {},
     "output_type": "display_data"
    }
   ],
   "source": [
    "from emitopt.utils import get_valid_emittance_samples\n",
    "beam_energy = 0.135\n",
    "q_len = 0.10\n",
    "distance = 2.6\n",
    "\n",
    "(emits_at_target_valid,\n",
    " emits_sq_at_target,\n",
    " is_valid,\n",
    " sample_validity_rate) = get_valid_emittance_samples(model.models[0], beam_energy,\n",
    "                                                     q_len,\n",
    "                                                     distance, n_samples=50, n_steps_quad_scan=10, visualize=True)"
   ]
  },
  {
   "cell_type": "code",
   "execution_count": null,
   "metadata": {},
   "outputs": [],
   "source": []
  }
 ],
 "metadata": {
  "kernelspec": {
   "display_name": "Python 3 (ipykernel)",
   "language": "python",
   "name": "python3"
  },
  "language_info": {
   "codemirror_mode": {
    "name": "ipython",
    "version": 3
   },
   "file_extension": ".py",
   "mimetype": "text/x-python",
   "name": "python",
   "nbconvert_exporter": "python",
   "pygments_lexer": "ipython3",
   "version": "3.9.16"
  }
 },
 "nbformat": 4,
 "nbformat_minor": 4
}
