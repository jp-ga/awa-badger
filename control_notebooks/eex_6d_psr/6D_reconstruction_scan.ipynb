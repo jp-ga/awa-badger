{
 "cells": [
  {
   "cell_type": "markdown",
   "metadata": {},
   "source": [
    "# 6d reconstruction scan"
   ]
  },
  {
   "cell_type": "code",
   "execution_count": null,
   "metadata": {
    "ExecuteTime": {
     "end_time": "2023-11-29T19:29:22.684239800Z",
     "start_time": "2023-11-29T19:29:22.665705300Z"
    },
    "collapsed": false,
    "jupyter": {
     "outputs_hidden": false
    }
   },
   "outputs": [],
   "source": [
    "import os\n",
    "from camera import load_camera\n",
    "\n",
    "#import sys\n",
    "#sys.path.append(\"../\")\n",
    "\n",
    "#os.environ[\"KMP_DUPLICATE_LIB_OK\"]=\"TRUE\""
   ]
  },
  {
   "cell_type": "markdown",
   "metadata": {},
   "source": [
    "## Setup"
   ]
  },
  {
   "cell_type": "code",
   "execution_count": null,
   "metadata": {},
   "outputs": [],
   "source": [
    "# YAG names as in awa_camera_config.yml\n",
    "# YAG_A is straight ahead and YAG_B is on bent trayectory\n",
    "YAG_A_name = \"EYG7\"\n",
    "YAG_B_name = \"EYG8\"\n",
    "\n",
    "# save image path\n",
    "save_image_location = \"/home/awa/awa_data/00_00_24_EEX_Reconstruction/reconstruction_scan\""
   ]
  },
  {
   "cell_type": "markdown",
   "metadata": {
    "collapsed": false,
    "jupyter": {
     "outputs_hidden": false
    }
   },
   "source": [
    "## Define the diagnostic"
   ]
  },
  {
   "cell_type": "code",
   "execution_count": null,
   "metadata": {},
   "outputs": [],
   "source": [
    "YAG_A = load_camera(YAG_A_name)"
   ]
  },
  {
   "cell_type": "code",
   "execution_count": null,
   "metadata": {
    "ExecuteTime": {
     "end_time": "2023-11-29T19:29:26.393229400Z",
     "start_time": "2023-11-29T19:29:22.689272300Z"
    },
    "collapsed": false,
    "jupyter": {
     "outputs_hidden": false
    }
   },
   "outputs": [],
   "source": [
    "YAG_A.save_image_location = save_image_location\n",
    "YAG_A.background_file = save_image_location + \"/YAG_A_background.npy\""
   ]
  },
  {
   "cell_type": "code",
   "execution_count": null,
   "metadata": {},
   "outputs": [],
   "source": [
    "YAG_A.measure_background()"
   ]
  },
  {
   "cell_type": "code",
   "execution_count": null,
   "metadata": {},
   "outputs": [],
   "source": [
    "YAG_A.test_measurement()"
   ]
  },
  {
   "cell_type": "code",
   "execution_count": null,
   "metadata": {},
   "outputs": [],
   "source": [
    "YAG_B = load_camera(YAG_B_name)"
   ]
  },
  {
   "cell_type": "code",
   "execution_count": null,
   "metadata": {},
   "outputs": [],
   "source": [
    "YAG_B.save_image_location = save_image_location\n",
    "YAG_B.background_file = save_image_location + \"/YAG_B_background.npy\""
   ]
  },
  {
   "cell_type": "code",
   "execution_count": null,
   "metadata": {},
   "outputs": [],
   "source": [
    "YAG_B.measure_background()"
   ]
  },
  {
   "cell_type": "code",
   "execution_count": null,
   "metadata": {},
   "outputs": [],
   "source": [
    "YAG_B.test_measurement()"
   ]
  },
  {
   "cell_type": "code",
   "execution_count": null,
   "metadata": {},
   "outputs": [],
   "source": [
    "YAG_B.visualize = False\n",
    "YAG_B.measure_beamsize(20, fit_image=True)"
   ]
  },
  {
   "cell_type": "markdown",
   "metadata": {
    "collapsed": false,
    "jupyter": {
     "outputs_hidden": false
    }
   },
   "source": [
    "## Define the evaluator"
   ]
  },
  {
   "cell_type": "code",
   "execution_count": null,
   "metadata": {
    "ExecuteTime": {
     "end_time": "2023-11-29T19:29:34.924492700Z",
     "start_time": "2023-11-29T19:29:34.507296400Z"
    },
    "collapsed": false,
    "jupyter": {
     "outputs_hidden": false
    }
   },
   "outputs": [],
   "source": [
    "from epics import caput, caget\n",
    "from xopt import Evaluator\n",
    "import time\n",
    "import numpy as np\n",
    "\n",
    "def evaluate_function(inputs: dict, diagnostic, testing=False) -> dict:\n",
    "    # caput values\n",
    "    if not testing:\n",
    "        for name, val in inputs.items():\n",
    "            caput(name, val)\n",
    "            print(name, val)\n",
    "\n",
    "    # wait for changes to occur\n",
    "    time.sleep(2)\n",
    "    print(time.time())\n",
    "    results = diagnostic.measure_beamsize(5, fit_image=False, **inputs)\n",
    "\n",
    "    return results | inputs\n",
    "\n",
    "evaluator = Evaluator(function=evaluate_function)"
   ]
  },
  {
   "cell_type": "markdown",
   "metadata": {
    "collapsed": false,
    "jupyter": {
     "outputs_hidden": false
    }
   },
   "source": [
    "## Set up scan"
   ]
  },
  {
   "cell_type": "code",
   "execution_count": null,
   "metadata": {},
   "outputs": [],
   "source": [
    "import numpy as np\n",
    "import pandas as pd\n",
    "import yaml\n",
    "import json\n",
    "\n",
    "# pv names\n",
    "quad_pv_name = \"AWA:Bira3Ctrl:Ch10\"\n",
    "tdc_pv_name = \"pi:QBCR1:Ch7:EnablePulse\"\n",
    "dipole_pv_name = \"AWA:Bira4Ctrl:Ch01\"\n",
    "\n",
    "# quad strengths\n",
    "ks = np.linspace(-0.4, 0.4, 3)\n",
    "\n",
    "# tdc/dipole values\n",
    "dipole_on_pv_value = -3.64\n",
    "tdc_vals = {\"OFF\":0, \"ON\":1} # off/on values\n",
    "dipole_vals = {\"OFF\":0, \"ON\":dipole_on_pv_value} # off/on vals\n",
    "\n",
    "# camera settings\n",
    "YAG_A.target_charge = 4.5e-9\n",
    "YAG_B.target_charge = 4.5e-9\n",
    "YAG_A.charge_atol = 0.5e-9\n",
    "YAG_B.charge_atol = 0.5e-9\n",
    "YAG_A.wait_time = 0.6\n",
    "YAG_B.wait_time = 0.6"
   ]
  },
  {
   "cell_type": "code",
   "execution_count": null,
   "metadata": {},
   "outputs": [],
   "source": [
    "def do_quad_scan(k, pv_dict, diagnostic, testing=False):\n",
    "    q_scan_data = []\n",
    "    print(\"doing quad scan\")\n",
    "    for ele in k:\n",
    "        # add tcav/dipole settings to quad settings\n",
    "        total_pvs = pv_dict | {quad_pv_name:ele}\n",
    "        print(total_pvs)\n",
    "\n",
    "        # do measurement\n",
    "        result = evaluate_function(total_pvs, diagnostic, testing)\n",
    "        q_scan_data += [result]\n",
    "\n",
    "    return q_scan_data"
   ]
  },
  {
   "cell_type": "markdown",
   "metadata": {},
   "source": [
    "## Run scan"
   ]
  },
  {
   "cell_type": "code",
   "execution_count": null,
   "metadata": {
    "ExecuteTime": {
     "end_time": "2023-11-29T19:35:22.059807600Z",
     "start_time": "2023-11-29T19:29:34.930499700Z"
    },
    "collapsed": false,
    "jupyter": {
     "outputs_hidden": false
    }
   },
   "outputs": [],
   "source": [
    "data = []\n",
    "\n",
    "# ----------------------------\n",
    "# do quad scan with dipole off\n",
    "# ----------------------------\n",
    "\n",
    "# set camera\n",
    "YAG_A.set_camera()\n",
    "\n",
    "# set dipole\n",
    "print(\"setting dipole\")\n",
    "caput(dipole_pv_name, dipole_vals[\"OFF\"])\n",
    "time.sleep(15)\n",
    "print(\"dipole finished moving\")\n",
    "\n",
    "# scan over TDC and quad\n",
    "for tdc_state in [\"OFF\",\"ON\"]:\n",
    "    q_scan_results = do_quad_scan(\n",
    "        ks,\n",
    "        {tdc_pv_name: tdc_vals[tdc_state], dipole_pv_name: dipole_vals[\"OFF\"]},\n",
    "        YAG_A,\n",
    "    )\n",
    "\n",
    "    data = data + q_scan_results\n",
    "\n",
    "    pd_data = pd.DataFrame(data)\n",
    "\n",
    "    # save dataframe to file\n",
    "    with open(os.path.join(save_image_location, 'data.yml'), 'w') as outfile:\n",
    "        yaml.dump(\n",
    "            json.loads(pd_data.to_json(orient=\"records\")),\n",
    "            outfile,\n",
    "            default_flow_style=False\n",
    "        )\n",
    "\n",
    "# ----------------------------\n",
    "# do quad scan with dipole on\n",
    "# ----------------------------\n",
    "\n",
    "# set camera\n",
    "YAG_B.set_camera()\n",
    "\n",
    "# set dipole\n",
    "print(\"setting dipole\")\n",
    "caput(dipole_pv_name, dipole_vals[\"OFF\"])\n",
    "time.sleep(15)\n",
    "print(\"dipole finished moving\")\n",
    "\n",
    "# scan over TDC and quad\n",
    "for tdc_state in [\"OFF\",\"ON\"]:\n",
    "    q_scan_results = do_quad_scan(\n",
    "        ks,\n",
    "        {tdc_pv_name: tdc_vals[tdc_state], dipole_pv_name: dipole_vals[\"ON\"]},\n",
    "        YAG_B,\n",
    "    )\n",
    "\n",
    "    data = data + q_scan_results\n",
    "\n",
    "    pd_data = pd.DataFrame(data)\n",
    "\n",
    "    # save dataframe to file\n",
    "    with open(os.path.join(save_image_location, 'data.yml'), 'w') as outfile:\n",
    "        yaml.dump(\n",
    "            json.loads(pd_data.to_json(orient=\"records\")),\n",
    "            outfile,\n",
    "            default_flow_style=False\n",
    "        )"
   ]
  }
 ],
 "metadata": {
  "interpreter": {
   "hash": "72034539424920dfb606fe3b820b3f27dca0cbf1c69938110810ec4641e275b1"
  },
  "kernelspec": {
   "display_name": "Python 3 (ipykernel)",
   "language": "python",
   "name": "python3"
  },
  "language_info": {
   "codemirror_mode": {
    "name": "ipython",
    "version": 3
   },
   "file_extension": ".py",
   "mimetype": "text/x-python",
   "name": "python",
   "nbconvert_exporter": "python",
   "pygments_lexer": "ipython3",
   "version": "3.10.12"
  }
 },
 "nbformat": 4,
 "nbformat_minor": 4
}
