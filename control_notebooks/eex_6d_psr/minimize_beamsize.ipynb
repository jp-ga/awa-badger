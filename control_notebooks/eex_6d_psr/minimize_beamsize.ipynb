{
 "cells": [
  {
   "cell_type": "markdown",
   "metadata": {},
   "source": [
    "# Beamsize minimization with Xopt"
   ]
  },
  {
   "cell_type": "markdown",
   "metadata": {
    "collapsed": false,
    "jupyter": {
     "outputs_hidden": false
    }
   },
   "source": [
    "## define the diagnostic"
   ]
  },
  {
   "cell_type": "code",
   "execution_count": null,
   "metadata": {
    "collapsed": false,
    "jupyter": {
     "outputs_hidden": false
    }
   },
   "outputs": [],
   "source": [
    "from camera import load_camera"
   ]
  },
  {
   "cell_type": "code",
   "execution_count": null,
   "metadata": {},
   "outputs": [],
   "source": [
    "# setup camera and quads:\n",
    "image_diagnostic = load_camera(\"EYG7\")\n",
    "q1_pv_name = \"AWA:Bira3Ctrl:Ch03\"\n",
    "q2_pv_name = \"AWA:Bira3Ctrl:Ch04\"\n",
    "q3_pv_name = \"AWA:Bira3Ctrl:Ch05\"\n",
    "q1_range = [0,4.0]\n",
    "q2_range = [-4.0,0]\n",
    "q3_range = [0,4.0]"
   ]
  },
  {
   "cell_type": "code",
   "execution_count": null,
   "metadata": {
    "collapsed": false,
    "jupyter": {
     "outputs_hidden": false
    }
   },
   "outputs": [],
   "source": [
    "image_diagnostic.test_measurement()"
   ]
  },
  {
   "cell_type": "markdown",
   "metadata": {
    "collapsed": false,
    "jupyter": {
     "outputs_hidden": false
    }
   },
   "source": [
    "### Define the evaluator"
   ]
  },
  {
   "cell_type": "code",
   "execution_count": null,
   "metadata": {
    "ExecuteTime": {
     "end_time": "2023-11-13T20:36:51.014606900Z",
     "start_time": "2023-11-13T20:36:47.890463Z"
    },
    "collapsed": false,
    "jupyter": {
     "outputs_hidden": false
    }
   },
   "outputs": [],
   "source": [
    "from epics import caput, caget\n",
    "from xopt import Evaluator\n",
    "import time\n",
    "import numpy as np\n",
    "\n",
    "IMAGE_CONSTRAINTS = {\n",
    "            \"bb_penalty\": [\"LESS_THAN\", 0.0],\n",
    "            \"log10_total_intensity\": [\"GREATER_THAN\", image_diagnostic.min_log_intensity]\n",
    "        }\n",
    "image_diagnostic.visualize = False\n",
    "def evaluate_function(inputs: dict) -> dict:\n",
    "    global image_diagnostic\n",
    "    # caput valueslog_transform_acquisition_function\n",
    "    for name, val in inputs.items():\n",
    "        caput(name, val)\n",
    "\n",
    "    # wait for changes to occur - use small wait time for interpolated measurements\n",
    "    time.sleep(1)\n",
    "\n",
    "    results = image_diagnostic.measure_beamsize(1, **inputs)\n",
    "\n",
    "    # add total beam size\n",
    "    sigma_xy = np.sqrt(np.array(results[\"Sx\"])**2 + np.array(results[\"Sy\"])**2)\n",
    "    roundness = np.abs(np.array(results[\"Sx\"]) - np.array(results[\"Sy\"]))\n",
    "    results[\"total_size\"] = sigma_xy + roundness\n",
    "    print(sigma_xy, roundness, results[\"total_size\"], results[\"bb_penalty\"])\n",
    "    return results\n",
    "\n",
    "evaluator = Evaluator(function=evaluate_function)"
   ]
  },
  {
   "cell_type": "markdown",
   "metadata": {
    "collapsed": false,
    "jupyter": {
     "outputs_hidden": false
    }
   },
   "source": [
    "### Define VOCS\n",
    "Here we define the names and ranges of input parameters, the names and settings of\n",
    "objectives, and the names and settings of constraints. Note that the keys here should\n",
    " be referenced in the evaluate function above."
   ]
  },
  {
   "cell_type": "code",
   "execution_count": null,
   "metadata": {
    "ExecuteTime": {
     "end_time": "2023-11-13T20:36:51.029643600Z",
     "start_time": "2023-11-13T20:36:51.017607300Z"
    },
    "collapsed": false,
    "jupyter": {
     "outputs_hidden": false
    }
   },
   "outputs": [],
   "source": [
    "from xopt import VOCS\n",
    "\n",
    "# define control PVs and ranges here\n",
    "vocs = VOCS(\n",
    "    variables = {\n",
    "        q1_pv_name: q1_range,\n",
    "        q2_pv_name: q2_range,\n",
    "        q3_pv_name: q3_range,\n",
    "    },\n",
    "    objectives = {\"total_size\":\"MINIMIZE\"},\n",
    "    constraints = IMAGE_CONSTRAINTS\n",
    ")"
   ]
  },
  {
   "cell_type": "markdown",
   "metadata": {
    "collapsed": false,
    "jupyter": {
     "outputs_hidden": false
    }
   },
   "source": [
    "### Define the Generator"
   ]
  },
  {
   "cell_type": "code",
   "execution_count": null,
   "metadata": {
    "ExecuteTime": {
     "end_time": "2023-11-13T20:36:51.072643100Z",
     "start_time": "2023-11-13T20:36:51.032644900Z"
    },
    "collapsed": false,
    "jupyter": {
     "outputs_hidden": false
    }
   },
   "outputs": [],
   "source": [
    "from xopt.generators import get_generator\n",
    "from xopt.generators.bayesian.models.standard import StandardModelConstructor\n",
    "\n",
    "model_constructor = StandardModelConstructor(use_low_noise_prior=False)\n",
    "generator = get_generator(\"expected_improvement\")(\n",
    "    vocs=vocs, gp_constructor=model_constructor, \n",
    "    n_interpolate_points=5, \n",
    "    turbo_controller=\"optimize\",\n",
    "    log_transform_acquisition_function=True,\n",
    ")\n",
    "generator.numerical_optimizer.max_time = 10.0\n",
    "#generator.turbo_controller.failure_tolerance = 6\n",
    "#generator.turbo_controller.success_tolerance = 6"
   ]
  },
  {
   "cell_type": "markdown",
   "metadata": {
    "collapsed": false,
    "jupyter": {
     "outputs_hidden": false
    }
   },
   "source": [
    "###  Combine into Xopt object"
   ]
  },
  {
   "cell_type": "code",
   "execution_count": null,
   "metadata": {
    "ExecuteTime": {
     "end_time": "2023-11-13T20:47:58.281918Z",
     "start_time": "2023-11-13T20:47:58.264919400Z"
    },
    "collapsed": false,
    "jupyter": {
     "outputs_hidden": false
    }
   },
   "outputs": [],
   "source": [
    "from xopt import Xopt\n",
    "import yaml\n",
    "save_image_location = '.'\n",
    "dump_filename = save_image_location + \"/beamsize_minimization.yml\"\n",
    "X = Xopt(vocs=vocs, generator=generator, evaluator=evaluator, dump_file=dump_filename)"
   ]
  },
  {
   "cell_type": "code",
   "execution_count": null,
   "metadata": {},
   "outputs": [],
   "source": [
    "import pandas as pd\n",
    "#X.add_data(pd.DataFrame(\n",
    "#    yaml.safe_load(\n",
    "#        open(\"beamsize_minimization.yml\")\n",
    "#    )[\"data\"]\n",
    "#    )\n",
    "#)"
   ]
  },
  {
   "cell_type": "markdown",
   "metadata": {
    "collapsed": false,
    "jupyter": {
     "outputs_hidden": false
    }
   },
   "source": [
    "## Introspection\n",
    "Objects in Xopt can be printed to a string or dumped to a text file for easy\n",
    "introspection of attributes and current configuration."
   ]
  },
  {
   "cell_type": "code",
   "execution_count": null,
   "metadata": {
    "ExecuteTime": {
     "end_time": "2023-11-13T20:48:01.350099700Z",
     "start_time": "2023-11-13T20:48:01.342072Z"
    }
   },
   "outputs": [],
   "source": [
    "# Convenient representation of the state.\n",
    "X"
   ]
  },
  {
   "cell_type": "markdown",
   "metadata": {
    "collapsed": false,
    "jupyter": {
     "outputs_hidden": false
    }
   },
   "source": [
    "### Initialization"
   ]
  },
  {
   "cell_type": "code",
   "execution_count": null,
   "metadata": {
    "ExecuteTime": {
     "end_time": "2023-11-13T20:36:51.132672100Z",
     "start_time": "2023-11-13T20:36:51.077647200Z"
    },
    "collapsed": false,
    "jupyter": {
     "outputs_hidden": false
    }
   },
   "outputs": [],
   "source": [
    "from epics import caget_many\n",
    "from xopt.utils import get_local_region\n",
    "import pandas as pd\n",
    "# 0.684 \t1.135 \t0.146 0.5\n",
    "X.evaluate_data(pd.DataFrame([{\n",
    "    q1_pv_name: 1.14, # \n",
    "    q2_pv_name: -2.44, # \n",
    "    q3_pv_name: 1.41,\n",
    "}], columns=X.vocs.variable_names,index=[0]))\n",
    "\n",
    "# get current point\n",
    "current_value = dict(zip(X.vocs.variable_names, caget_many(X.vocs.variable_names)))\n",
    "\n",
    "# get small region around current point to sample\n",
    "random_sample_region = get_local_region(current_value,X.vocs, fraction=0.05)\n",
    "\n",
    "random_sample_region"
   ]
  },
  {
   "cell_type": "code",
   "execution_count": null,
   "metadata": {},
   "outputs": [],
   "source": [
    "X.data"
   ]
  },
  {
   "cell_type": "code",
   "execution_count": null,
   "metadata": {},
   "outputs": [],
   "source": [
    "# random sample in a local region\n",
    "X.random_evaluate(10, custom_bounds=random_sample_region)"
   ]
  },
  {
   "cell_type": "code",
   "execution_count": null,
   "metadata": {
    "collapsed": false,
    "jupyter": {
     "outputs_hidden": false
    }
   },
   "outputs": [],
   "source": [
    "# examine the data stored in Xopt\n",
    "X.data"
   ]
  },
  {
   "cell_type": "code",
   "execution_count": null,
   "metadata": {
    "collapsed": false,
    "jupyter": {
     "outputs_hidden": false
    }
   },
   "outputs": [],
   "source": [
    "# run optimization\n",
    "for i in range(20):\n",
    "    print(i)\n",
    "    X.step()"
   ]
  },
  {
   "cell_type": "code",
   "execution_count": null,
   "metadata": {
    "collapsed": false,
    "jupyter": {
     "outputs_hidden": false
    }
   },
   "outputs": [],
   "source": [
    "# visualize result\n",
    "X.data.plot(y=X.vocs.objective_names[0])"
   ]
  },
  {
   "cell_type": "code",
   "execution_count": null,
   "metadata": {},
   "outputs": [],
   "source": [
    "X.data.plot(y=X.vocs.variable_names)"
   ]
  },
  {
   "cell_type": "code",
   "execution_count": null,
   "metadata": {},
   "outputs": [],
   "source": [
    "image_diagnostic.test_measurement()"
   ]
  },
  {
   "cell_type": "code",
   "execution_count": null,
   "metadata": {},
   "outputs": [],
   "source": [
    "idx, val = X.vocs.select_best(X.data)"
   ]
  },
  {
   "cell_type": "code",
   "execution_count": null,
   "metadata": {},
   "outputs": [],
   "source": [
    "X.evaluate_data(X.data.iloc[idx][X.vocs.variable_names])"
   ]
  },
  {
   "cell_type": "code",
   "execution_count": null,
   "metadata": {},
   "outputs": [],
   "source": [
    "X.data.iloc[idx][X.vocs.variable_names].to_dict(orient=\"records\")"
   ]
  },
  {
   "cell_type": "code",
   "execution_count": null,
   "metadata": {},
   "outputs": [],
   "source": [
    "image_diagnostic.test_measurement()"
   ]
  },
  {
   "cell_type": "code",
   "execution_count": null,
   "metadata": {},
   "outputs": [],
   "source": []
  }
 ],
 "metadata": {
  "interpreter": {
   "hash": "72034539424920dfb606fe3b820b3f27dca0cbf1c69938110810ec4641e275b1"
  },
  "kernelspec": {
   "display_name": "Python 3 (ipykernel)",
   "language": "python",
   "name": "python3"
  },
  "language_info": {
   "codemirror_mode": {
    "name": "ipython",
    "version": 3
   },
   "file_extension": ".py",
   "mimetype": "text/x-python",
   "name": "python",
   "nbconvert_exporter": "python",
   "pygments_lexer": "ipython3",
   "version": "3.10.12"
  }
 },
 "nbformat": 4,
 "nbformat_minor": 4
}
