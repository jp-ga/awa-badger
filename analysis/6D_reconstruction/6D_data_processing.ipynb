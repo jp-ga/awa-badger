{
 "cells": [
  {
   "cell_type": "code",
   "execution_count": 1,
   "metadata": {
    "ExecuteTime": {
     "end_time": "2023-11-29T20:00:00.360615Z",
     "start_time": "2023-11-29T19:59:59.954550200Z"
    }
   },
   "outputs": [],
   "source": [
    "import numpy as np\n",
    "from matplotlib import pyplot as plt\n",
    "import pandas as pd\n",
    "import h5py\n",
    "import yaml\n",
    "import os.path\n",
    "import json"
   ]
  },
  {
   "cell_type": "code",
   "execution_count": 2,
   "metadata": {
    "ExecuteTime": {
     "end_time": "2023-11-29T20:00:00.405881100Z",
     "start_time": "2023-11-29T20:00:00.397910100Z"
    },
    "collapsed": false,
    "jupyter": {
     "outputs_hidden": false
    }
   },
   "outputs": [],
   "source": [
    "# load data from image files according the the yaml file\n",
    "background_path = os.path.join('/Users','jpga', 'AWA_DATA', '12-07_6D-PSR')\n",
    "data_path = os.path.join(background_path, 'reconstruction_scan')\n",
    "run_data = yaml.safe_load(open(os.path.join(data_path, 'scan2.yml')))"
   ]
  },
  {
   "cell_type": "code",
   "execution_count": 3,
   "metadata": {},
   "outputs": [],
   "source": [
    "# PV names of scanning elements\n",
    "quad_pv_name = \"AWA:Bira3Ctrl:Ch10\"\n",
    "tdc_pv_name = \"pi:QBCR1:Ch7:EnablePulse\"\n",
    "dipole_pv_name = \"AWA:Bira4Ctrl:Ch01\""
   ]
  },
  {
   "cell_type": "code",
   "execution_count": 4,
   "metadata": {},
   "outputs": [
    {
     "name": "stdout",
     "output_type": "stream",
     "text": [
      "<KeysViewHDF5 ['AWA:Bira3Ctrl:Ch10', 'AWA:Bira4Ctrl:Ch01', 'AWAVXI11ICT:Ch4', 'alias', 'array_data_suffix', 'array_n_cols_suffix', 'array_n_rows_suffix', 'background_file', 'bounding_box_half_width', 'charge_atol', 'extra_pvs', 'ip_address', 'min_log_intensity', 'n_fitting_restarts', 'pi:QBCR1:Ch7:EnablePulse', 'resolution', 'return_statistics', 'roi', 'save_image_location', 'screen_name', 'target_charge', 'target_charge_pv', 'testing', 'threshold', 'verbose', 'visualize', 'wait_time']>\n",
      "{'xcenter': 556, 'ycenter': 806, 'xwidth': 700, 'ywidth': 700}\n",
      "{'xcenter': 591, 'ycenter': 1079, 'xwidth': 700, 'ywidth': 700}\n"
     ]
    }
   ],
   "source": [
    "# test data\n",
    "dyg14_fname = 'DYG14_1701987488.h5'\n",
    "dyg15_fname = 'DYG15_1701988429.h5'\n",
    "dyg14_test = h5py.File(os.path.join(data_path, dyg14_fname))\n",
    "dyg15_test = h5py.File(os.path.join(data_path, dyg15_fname))\n",
    "print(dyg14_test['images'].attrs.keys())\n",
    "dyg14_roi = json.loads(json.dumps(dyg14_test['images'].attrs['roi']))\n",
    "dyg15_roi = json.loads(json.dumps(dyg15_test['images'].attrs['roi']))\n",
    "print(dyg14_roi)\n",
    "print(dyg15_roi)"
   ]
  },
  {
   "cell_type": "code",
   "execution_count": 5,
   "metadata": {},
   "outputs": [],
   "source": [
    "dyg14_center = [556, 806]\n",
    "dyg15_center = [591, 1079]"
   ]
  },
  {
   "cell_type": "code",
   "execution_count": 6,
   "metadata": {},
   "outputs": [],
   "source": [
    "# load backgrounds\n",
    "background_dipole_off = np.load(os.path.join(data_path, 'DYG14_background.npy'))\n",
    "background_dipole_on = np.load(os.path.join(data_path, 'DYG15_background.npy'))\n",
    "background_dipole_off = background_dipole_off[dyg14_center[0]-350:dyg14_center[0]+350, dyg14_center[1]-350:dyg14_center[1]+350]\n",
    "background_dipole_on = background_dipole_off[dyg15_center[0]-350:dyg15_center[0]+350, dyg15_center[1]-350:dyg15_center[1]+350]"
   ]
  },
  {
   "cell_type": "code",
   "execution_count": 7,
   "metadata": {
    "ExecuteTime": {
     "end_time": "2023-11-29T20:00:00.440883Z",
     "start_time": "2023-11-29T20:00:00.408883400Z"
    },
    "collapsed": false,
    "jupyter": {
     "outputs_hidden": false
    }
   },
   "outputs": [
    {
     "data": {
      "text/html": [
       "<div>\n",
       "<style scoped>\n",
       "    .dataframe tbody tr th:only-of-type {\n",
       "        vertical-align: middle;\n",
       "    }\n",
       "\n",
       "    .dataframe tbody tr th {\n",
       "        vertical-align: top;\n",
       "    }\n",
       "\n",
       "    .dataframe thead th {\n",
       "        text-align: right;\n",
       "    }\n",
       "</style>\n",
       "<table border=\"1\" class=\"dataframe\">\n",
       "  <thead>\n",
       "    <tr style=\"text-align: right;\">\n",
       "      <th></th>\n",
       "      <th>AWA:Bira3Ctrl:Ch10</th>\n",
       "      <th>AWA:Bira4Ctrl:Ch01</th>\n",
       "      <th>AWAVXI11ICT:Ch4</th>\n",
       "      <th>pi:QBCR1:Ch7:EnablePulse</th>\n",
       "      <th>save_filename</th>\n",
       "    </tr>\n",
       "  </thead>\n",
       "  <tbody>\n",
       "    <tr>\n",
       "      <th>0</th>\n",
       "      <td>-0.50</td>\n",
       "      <td>0.00</td>\n",
       "      <td>[6e-10, 5e-10, 5e-10, 5e-10, 5e-10, 6e-10, 5e-...</td>\n",
       "      <td>0</td>\n",
       "      <td>/home/awa/awa_data/12-07_6DReconstruction/reco...</td>\n",
       "    </tr>\n",
       "    <tr>\n",
       "      <th>1</th>\n",
       "      <td>-0.45</td>\n",
       "      <td>0.00</td>\n",
       "      <td>[6e-10, 5e-10, 5e-10, 6e-10, 5e-10, 5e-10, 5e-...</td>\n",
       "      <td>0</td>\n",
       "      <td>/home/awa/awa_data/12-07_6DReconstruction/reco...</td>\n",
       "    </tr>\n",
       "    <tr>\n",
       "      <th>2</th>\n",
       "      <td>-0.40</td>\n",
       "      <td>0.00</td>\n",
       "      <td>[5e-10, 5e-10, 6e-10, 5e-10, 5e-10, 5e-10, 5e-...</td>\n",
       "      <td>0</td>\n",
       "      <td>/home/awa/awa_data/12-07_6DReconstruction/reco...</td>\n",
       "    </tr>\n",
       "    <tr>\n",
       "      <th>3</th>\n",
       "      <td>-0.35</td>\n",
       "      <td>0.00</td>\n",
       "      <td>[5e-10, 6e-10, 5e-10, 6e-10, 6e-10, 5e-10, 6e-...</td>\n",
       "      <td>0</td>\n",
       "      <td>/home/awa/awa_data/12-07_6DReconstruction/reco...</td>\n",
       "    </tr>\n",
       "    <tr>\n",
       "      <th>4</th>\n",
       "      <td>-0.30</td>\n",
       "      <td>0.00</td>\n",
       "      <td>[6e-10, 5e-10, 5e-10, 5e-10, 5e-10, 6e-10, 6e-...</td>\n",
       "      <td>0</td>\n",
       "      <td>/home/awa/awa_data/12-07_6DReconstruction/reco...</td>\n",
       "    </tr>\n",
       "    <tr>\n",
       "      <th>...</th>\n",
       "      <td>...</td>\n",
       "      <td>...</td>\n",
       "      <td>...</td>\n",
       "      <td>...</td>\n",
       "      <td>...</td>\n",
       "    </tr>\n",
       "    <tr>\n",
       "      <th>79</th>\n",
       "      <td>0.30</td>\n",
       "      <td>-5.63</td>\n",
       "      <td>[5e-10, 5e-10, 5e-10, 5e-10, 5e-10, 5e-10, 5e-...</td>\n",
       "      <td>1</td>\n",
       "      <td>/home/awa/awa_data/12-07_6DReconstruction/reco...</td>\n",
       "    </tr>\n",
       "    <tr>\n",
       "      <th>80</th>\n",
       "      <td>0.35</td>\n",
       "      <td>-5.63</td>\n",
       "      <td>[5e-10, 5e-10, 5e-10, 5e-10, 5e-10, 6e-10, 6e-...</td>\n",
       "      <td>1</td>\n",
       "      <td>/home/awa/awa_data/12-07_6DReconstruction/reco...</td>\n",
       "    </tr>\n",
       "    <tr>\n",
       "      <th>81</th>\n",
       "      <td>0.40</td>\n",
       "      <td>-5.63</td>\n",
       "      <td>[5e-10, 5e-10, 5e-10, 5e-10, 5e-10, 5e-10, 5e-...</td>\n",
       "      <td>1</td>\n",
       "      <td>/home/awa/awa_data/12-07_6DReconstruction/reco...</td>\n",
       "    </tr>\n",
       "    <tr>\n",
       "      <th>82</th>\n",
       "      <td>0.45</td>\n",
       "      <td>-5.63</td>\n",
       "      <td>[6e-10, 6e-10, 5e-10, 6e-10, 5e-10, 6e-10, 5e-...</td>\n",
       "      <td>1</td>\n",
       "      <td>/home/awa/awa_data/12-07_6DReconstruction/reco...</td>\n",
       "    </tr>\n",
       "    <tr>\n",
       "      <th>83</th>\n",
       "      <td>0.50</td>\n",
       "      <td>-5.63</td>\n",
       "      <td>[5e-10, 5e-10, 5e-10, 6e-10, 5e-10, 5e-10, 5e-...</td>\n",
       "      <td>1</td>\n",
       "      <td>/home/awa/awa_data/12-07_6DReconstruction/reco...</td>\n",
       "    </tr>\n",
       "  </tbody>\n",
       "</table>\n",
       "<p>84 rows × 5 columns</p>\n",
       "</div>"
      ],
      "text/plain": [
       "    AWA:Bira3Ctrl:Ch10  AWA:Bira4Ctrl:Ch01  \\\n",
       "0                -0.50                0.00   \n",
       "1                -0.45                0.00   \n",
       "2                -0.40                0.00   \n",
       "3                -0.35                0.00   \n",
       "4                -0.30                0.00   \n",
       "..                 ...                 ...   \n",
       "79                0.30               -5.63   \n",
       "80                0.35               -5.63   \n",
       "81                0.40               -5.63   \n",
       "82                0.45               -5.63   \n",
       "83                0.50               -5.63   \n",
       "\n",
       "                                      AWAVXI11ICT:Ch4  \\\n",
       "0   [6e-10, 5e-10, 5e-10, 5e-10, 5e-10, 6e-10, 5e-...   \n",
       "1   [6e-10, 5e-10, 5e-10, 6e-10, 5e-10, 5e-10, 5e-...   \n",
       "2   [5e-10, 5e-10, 6e-10, 5e-10, 5e-10, 5e-10, 5e-...   \n",
       "3   [5e-10, 6e-10, 5e-10, 6e-10, 6e-10, 5e-10, 6e-...   \n",
       "4   [6e-10, 5e-10, 5e-10, 5e-10, 5e-10, 6e-10, 6e-...   \n",
       "..                                                ...   \n",
       "79  [5e-10, 5e-10, 5e-10, 5e-10, 5e-10, 5e-10, 5e-...   \n",
       "80  [5e-10, 5e-10, 5e-10, 5e-10, 5e-10, 6e-10, 6e-...   \n",
       "81  [5e-10, 5e-10, 5e-10, 5e-10, 5e-10, 5e-10, 5e-...   \n",
       "82  [6e-10, 6e-10, 5e-10, 6e-10, 5e-10, 6e-10, 5e-...   \n",
       "83  [5e-10, 5e-10, 5e-10, 6e-10, 5e-10, 5e-10, 5e-...   \n",
       "\n",
       "    pi:QBCR1:Ch7:EnablePulse  \\\n",
       "0                          0   \n",
       "1                          0   \n",
       "2                          0   \n",
       "3                          0   \n",
       "4                          0   \n",
       "..                       ...   \n",
       "79                         1   \n",
       "80                         1   \n",
       "81                         1   \n",
       "82                         1   \n",
       "83                         1   \n",
       "\n",
       "                                        save_filename  \n",
       "0   /home/awa/awa_data/12-07_6DReconstruction/reco...  \n",
       "1   /home/awa/awa_data/12-07_6DReconstruction/reco...  \n",
       "2   /home/awa/awa_data/12-07_6DReconstruction/reco...  \n",
       "3   /home/awa/awa_data/12-07_6DReconstruction/reco...  \n",
       "4   /home/awa/awa_data/12-07_6DReconstruction/reco...  \n",
       "..                                                ...  \n",
       "79  /home/awa/awa_data/12-07_6DReconstruction/reco...  \n",
       "80  /home/awa/awa_data/12-07_6DReconstruction/reco...  \n",
       "81  /home/awa/awa_data/12-07_6DReconstruction/reco...  \n",
       "82  /home/awa/awa_data/12-07_6DReconstruction/reco...  \n",
       "83  /home/awa/awa_data/12-07_6DReconstruction/reco...  \n",
       "\n",
       "[84 rows x 5 columns]"
      ]
     },
     "execution_count": 7,
     "metadata": {},
     "output_type": "execute_result"
    }
   ],
   "source": [
    "run_data = pd.DataFrame(run_data)\n",
    "run_data"
   ]
  },
  {
   "cell_type": "code",
   "execution_count": 8,
   "metadata": {
    "ExecuteTime": {
     "end_time": "2023-11-29T20:00:00.516074400Z",
     "start_time": "2023-11-29T20:00:00.447882Z"
    },
    "collapsed": false,
    "jupyter": {
     "outputs_hidden": false
    }
   },
   "outputs": [],
   "source": [
    "# create a pivot table out of the data to collect settings\n",
    "pivot_data = pd.pivot(\n",
    "    run_data, index=[tdc_pv_name, dipole_pv_name],\n",
    "    columns=quad_pv_name,\n",
    "    values=\"save_filename\"\n",
    ")"
   ]
  },
  {
   "cell_type": "code",
   "execution_count": 9,
   "metadata": {},
   "outputs": [
    {
     "data": {
      "text/html": [
       "<div>\n",
       "<style scoped>\n",
       "    .dataframe tbody tr th:only-of-type {\n",
       "        vertical-align: middle;\n",
       "    }\n",
       "\n",
       "    .dataframe tbody tr th {\n",
       "        vertical-align: top;\n",
       "    }\n",
       "\n",
       "    .dataframe thead th {\n",
       "        text-align: right;\n",
       "    }\n",
       "</style>\n",
       "<table border=\"1\" class=\"dataframe\">\n",
       "  <thead>\n",
       "    <tr style=\"text-align: right;\">\n",
       "      <th></th>\n",
       "      <th>AWA:Bira3Ctrl:Ch10</th>\n",
       "      <th>-0.50</th>\n",
       "      <th>-0.45</th>\n",
       "      <th>-0.40</th>\n",
       "      <th>-0.35</th>\n",
       "      <th>-0.30</th>\n",
       "      <th>-0.25</th>\n",
       "      <th>-0.20</th>\n",
       "      <th>-0.15</th>\n",
       "      <th>-0.10</th>\n",
       "      <th>-0.05</th>\n",
       "      <th>...</th>\n",
       "      <th>0.05</th>\n",
       "      <th>0.10</th>\n",
       "      <th>0.15</th>\n",
       "      <th>0.20</th>\n",
       "      <th>0.25</th>\n",
       "      <th>0.30</th>\n",
       "      <th>0.35</th>\n",
       "      <th>0.40</th>\n",
       "      <th>0.45</th>\n",
       "      <th>0.50</th>\n",
       "    </tr>\n",
       "    <tr>\n",
       "      <th>pi:QBCR1:Ch7:EnablePulse</th>\n",
       "      <th>AWA:Bira4Ctrl:Ch01</th>\n",
       "      <th></th>\n",
       "      <th></th>\n",
       "      <th></th>\n",
       "      <th></th>\n",
       "      <th></th>\n",
       "      <th></th>\n",
       "      <th></th>\n",
       "      <th></th>\n",
       "      <th></th>\n",
       "      <th></th>\n",
       "      <th></th>\n",
       "      <th></th>\n",
       "      <th></th>\n",
       "      <th></th>\n",
       "      <th></th>\n",
       "      <th></th>\n",
       "      <th></th>\n",
       "      <th></th>\n",
       "      <th></th>\n",
       "      <th></th>\n",
       "      <th></th>\n",
       "    </tr>\n",
       "  </thead>\n",
       "  <tbody>\n",
       "    <tr>\n",
       "      <th rowspan=\"2\" valign=\"top\">0</th>\n",
       "      <th>0.00</th>\n",
       "      <td>/home/awa/awa_data/12-07_6DReconstruction/reco...</td>\n",
       "      <td>/home/awa/awa_data/12-07_6DReconstruction/reco...</td>\n",
       "      <td>/home/awa/awa_data/12-07_6DReconstruction/reco...</td>\n",
       "      <td>/home/awa/awa_data/12-07_6DReconstruction/reco...</td>\n",
       "      <td>/home/awa/awa_data/12-07_6DReconstruction/reco...</td>\n",
       "      <td>/home/awa/awa_data/12-07_6DReconstruction/reco...</td>\n",
       "      <td>/home/awa/awa_data/12-07_6DReconstruction/reco...</td>\n",
       "      <td>/home/awa/awa_data/12-07_6DReconstruction/reco...</td>\n",
       "      <td>/home/awa/awa_data/12-07_6DReconstruction/reco...</td>\n",
       "      <td>/home/awa/awa_data/12-07_6DReconstruction/reco...</td>\n",
       "      <td>...</td>\n",
       "      <td>/home/awa/awa_data/12-07_6DReconstruction/reco...</td>\n",
       "      <td>/home/awa/awa_data/12-07_6DReconstruction/reco...</td>\n",
       "      <td>/home/awa/awa_data/12-07_6DReconstruction/reco...</td>\n",
       "      <td>/home/awa/awa_data/12-07_6DReconstruction/reco...</td>\n",
       "      <td>/home/awa/awa_data/12-07_6DReconstruction/reco...</td>\n",
       "      <td>/home/awa/awa_data/12-07_6DReconstruction/reco...</td>\n",
       "      <td>/home/awa/awa_data/12-07_6DReconstruction/reco...</td>\n",
       "      <td>/home/awa/awa_data/12-07_6DReconstruction/reco...</td>\n",
       "      <td>/home/awa/awa_data/12-07_6DReconstruction/reco...</td>\n",
       "      <td>/home/awa/awa_data/12-07_6DReconstruction/reco...</td>\n",
       "    </tr>\n",
       "    <tr>\n",
       "      <th>-5.63</th>\n",
       "      <td>/home/awa/awa_data/12-07_6DReconstruction/reco...</td>\n",
       "      <td>/home/awa/awa_data/12-07_6DReconstruction/reco...</td>\n",
       "      <td>/home/awa/awa_data/12-07_6DReconstruction/reco...</td>\n",
       "      <td>/home/awa/awa_data/12-07_6DReconstruction/reco...</td>\n",
       "      <td>/home/awa/awa_data/12-07_6DReconstruction/reco...</td>\n",
       "      <td>/home/awa/awa_data/12-07_6DReconstruction/reco...</td>\n",
       "      <td>/home/awa/awa_data/12-07_6DReconstruction/reco...</td>\n",
       "      <td>/home/awa/awa_data/12-07_6DReconstruction/reco...</td>\n",
       "      <td>/home/awa/awa_data/12-07_6DReconstruction/reco...</td>\n",
       "      <td>/home/awa/awa_data/12-07_6DReconstruction/reco...</td>\n",
       "      <td>...</td>\n",
       "      <td>/home/awa/awa_data/12-07_6DReconstruction/reco...</td>\n",
       "      <td>/home/awa/awa_data/12-07_6DReconstruction/reco...</td>\n",
       "      <td>/home/awa/awa_data/12-07_6DReconstruction/reco...</td>\n",
       "      <td>/home/awa/awa_data/12-07_6DReconstruction/reco...</td>\n",
       "      <td>/home/awa/awa_data/12-07_6DReconstruction/reco...</td>\n",
       "      <td>/home/awa/awa_data/12-07_6DReconstruction/reco...</td>\n",
       "      <td>/home/awa/awa_data/12-07_6DReconstruction/reco...</td>\n",
       "      <td>/home/awa/awa_data/12-07_6DReconstruction/reco...</td>\n",
       "      <td>/home/awa/awa_data/12-07_6DReconstruction/reco...</td>\n",
       "      <td>/home/awa/awa_data/12-07_6DReconstruction/reco...</td>\n",
       "    </tr>\n",
       "    <tr>\n",
       "      <th rowspan=\"2\" valign=\"top\">1</th>\n",
       "      <th>0.00</th>\n",
       "      <td>/home/awa/awa_data/12-07_6DReconstruction/reco...</td>\n",
       "      <td>/home/awa/awa_data/12-07_6DReconstruction/reco...</td>\n",
       "      <td>/home/awa/awa_data/12-07_6DReconstruction/reco...</td>\n",
       "      <td>/home/awa/awa_data/12-07_6DReconstruction/reco...</td>\n",
       "      <td>/home/awa/awa_data/12-07_6DReconstruction/reco...</td>\n",
       "      <td>/home/awa/awa_data/12-07_6DReconstruction/reco...</td>\n",
       "      <td>/home/awa/awa_data/12-07_6DReconstruction/reco...</td>\n",
       "      <td>/home/awa/awa_data/12-07_6DReconstruction/reco...</td>\n",
       "      <td>/home/awa/awa_data/12-07_6DReconstruction/reco...</td>\n",
       "      <td>/home/awa/awa_data/12-07_6DReconstruction/reco...</td>\n",
       "      <td>...</td>\n",
       "      <td>/home/awa/awa_data/12-07_6DReconstruction/reco...</td>\n",
       "      <td>/home/awa/awa_data/12-07_6DReconstruction/reco...</td>\n",
       "      <td>/home/awa/awa_data/12-07_6DReconstruction/reco...</td>\n",
       "      <td>/home/awa/awa_data/12-07_6DReconstruction/reco...</td>\n",
       "      <td>/home/awa/awa_data/12-07_6DReconstruction/reco...</td>\n",
       "      <td>/home/awa/awa_data/12-07_6DReconstruction/reco...</td>\n",
       "      <td>/home/awa/awa_data/12-07_6DReconstruction/reco...</td>\n",
       "      <td>/home/awa/awa_data/12-07_6DReconstruction/reco...</td>\n",
       "      <td>/home/awa/awa_data/12-07_6DReconstruction/reco...</td>\n",
       "      <td>/home/awa/awa_data/12-07_6DReconstruction/reco...</td>\n",
       "    </tr>\n",
       "    <tr>\n",
       "      <th>-5.63</th>\n",
       "      <td>/home/awa/awa_data/12-07_6DReconstruction/reco...</td>\n",
       "      <td>/home/awa/awa_data/12-07_6DReconstruction/reco...</td>\n",
       "      <td>/home/awa/awa_data/12-07_6DReconstruction/reco...</td>\n",
       "      <td>/home/awa/awa_data/12-07_6DReconstruction/reco...</td>\n",
       "      <td>/home/awa/awa_data/12-07_6DReconstruction/reco...</td>\n",
       "      <td>/home/awa/awa_data/12-07_6DReconstruction/reco...</td>\n",
       "      <td>/home/awa/awa_data/12-07_6DReconstruction/reco...</td>\n",
       "      <td>/home/awa/awa_data/12-07_6DReconstruction/reco...</td>\n",
       "      <td>/home/awa/awa_data/12-07_6DReconstruction/reco...</td>\n",
       "      <td>/home/awa/awa_data/12-07_6DReconstruction/reco...</td>\n",
       "      <td>...</td>\n",
       "      <td>/home/awa/awa_data/12-07_6DReconstruction/reco...</td>\n",
       "      <td>/home/awa/awa_data/12-07_6DReconstruction/reco...</td>\n",
       "      <td>/home/awa/awa_data/12-07_6DReconstruction/reco...</td>\n",
       "      <td>/home/awa/awa_data/12-07_6DReconstruction/reco...</td>\n",
       "      <td>/home/awa/awa_data/12-07_6DReconstruction/reco...</td>\n",
       "      <td>/home/awa/awa_data/12-07_6DReconstruction/reco...</td>\n",
       "      <td>/home/awa/awa_data/12-07_6DReconstruction/reco...</td>\n",
       "      <td>/home/awa/awa_data/12-07_6DReconstruction/reco...</td>\n",
       "      <td>/home/awa/awa_data/12-07_6DReconstruction/reco...</td>\n",
       "      <td>/home/awa/awa_data/12-07_6DReconstruction/reco...</td>\n",
       "    </tr>\n",
       "  </tbody>\n",
       "</table>\n",
       "<p>4 rows × 21 columns</p>\n",
       "</div>"
      ],
      "text/plain": [
       "AWA:Bira3Ctrl:Ch10                                                                       -0.50  \\\n",
       "pi:QBCR1:Ch7:EnablePulse AWA:Bira4Ctrl:Ch01                                                      \n",
       "0                         0.00               /home/awa/awa_data/12-07_6DReconstruction/reco...   \n",
       "                         -5.63               /home/awa/awa_data/12-07_6DReconstruction/reco...   \n",
       "1                         0.00               /home/awa/awa_data/12-07_6DReconstruction/reco...   \n",
       "                         -5.63               /home/awa/awa_data/12-07_6DReconstruction/reco...   \n",
       "\n",
       "AWA:Bira3Ctrl:Ch10                                                                       -0.45  \\\n",
       "pi:QBCR1:Ch7:EnablePulse AWA:Bira4Ctrl:Ch01                                                      \n",
       "0                         0.00               /home/awa/awa_data/12-07_6DReconstruction/reco...   \n",
       "                         -5.63               /home/awa/awa_data/12-07_6DReconstruction/reco...   \n",
       "1                         0.00               /home/awa/awa_data/12-07_6DReconstruction/reco...   \n",
       "                         -5.63               /home/awa/awa_data/12-07_6DReconstruction/reco...   \n",
       "\n",
       "AWA:Bira3Ctrl:Ch10                                                                       -0.40  \\\n",
       "pi:QBCR1:Ch7:EnablePulse AWA:Bira4Ctrl:Ch01                                                      \n",
       "0                         0.00               /home/awa/awa_data/12-07_6DReconstruction/reco...   \n",
       "                         -5.63               /home/awa/awa_data/12-07_6DReconstruction/reco...   \n",
       "1                         0.00               /home/awa/awa_data/12-07_6DReconstruction/reco...   \n",
       "                         -5.63               /home/awa/awa_data/12-07_6DReconstruction/reco...   \n",
       "\n",
       "AWA:Bira3Ctrl:Ch10                                                                       -0.35  \\\n",
       "pi:QBCR1:Ch7:EnablePulse AWA:Bira4Ctrl:Ch01                                                      \n",
       "0                         0.00               /home/awa/awa_data/12-07_6DReconstruction/reco...   \n",
       "                         -5.63               /home/awa/awa_data/12-07_6DReconstruction/reco...   \n",
       "1                         0.00               /home/awa/awa_data/12-07_6DReconstruction/reco...   \n",
       "                         -5.63               /home/awa/awa_data/12-07_6DReconstruction/reco...   \n",
       "\n",
       "AWA:Bira3Ctrl:Ch10                                                                       -0.30  \\\n",
       "pi:QBCR1:Ch7:EnablePulse AWA:Bira4Ctrl:Ch01                                                      \n",
       "0                         0.00               /home/awa/awa_data/12-07_6DReconstruction/reco...   \n",
       "                         -5.63               /home/awa/awa_data/12-07_6DReconstruction/reco...   \n",
       "1                         0.00               /home/awa/awa_data/12-07_6DReconstruction/reco...   \n",
       "                         -5.63               /home/awa/awa_data/12-07_6DReconstruction/reco...   \n",
       "\n",
       "AWA:Bira3Ctrl:Ch10                                                                       -0.25  \\\n",
       "pi:QBCR1:Ch7:EnablePulse AWA:Bira4Ctrl:Ch01                                                      \n",
       "0                         0.00               /home/awa/awa_data/12-07_6DReconstruction/reco...   \n",
       "                         -5.63               /home/awa/awa_data/12-07_6DReconstruction/reco...   \n",
       "1                         0.00               /home/awa/awa_data/12-07_6DReconstruction/reco...   \n",
       "                         -5.63               /home/awa/awa_data/12-07_6DReconstruction/reco...   \n",
       "\n",
       "AWA:Bira3Ctrl:Ch10                                                                       -0.20  \\\n",
       "pi:QBCR1:Ch7:EnablePulse AWA:Bira4Ctrl:Ch01                                                      \n",
       "0                         0.00               /home/awa/awa_data/12-07_6DReconstruction/reco...   \n",
       "                         -5.63               /home/awa/awa_data/12-07_6DReconstruction/reco...   \n",
       "1                         0.00               /home/awa/awa_data/12-07_6DReconstruction/reco...   \n",
       "                         -5.63               /home/awa/awa_data/12-07_6DReconstruction/reco...   \n",
       "\n",
       "AWA:Bira3Ctrl:Ch10                                                                       -0.15  \\\n",
       "pi:QBCR1:Ch7:EnablePulse AWA:Bira4Ctrl:Ch01                                                      \n",
       "0                         0.00               /home/awa/awa_data/12-07_6DReconstruction/reco...   \n",
       "                         -5.63               /home/awa/awa_data/12-07_6DReconstruction/reco...   \n",
       "1                         0.00               /home/awa/awa_data/12-07_6DReconstruction/reco...   \n",
       "                         -5.63               /home/awa/awa_data/12-07_6DReconstruction/reco...   \n",
       "\n",
       "AWA:Bira3Ctrl:Ch10                                                                       -0.10  \\\n",
       "pi:QBCR1:Ch7:EnablePulse AWA:Bira4Ctrl:Ch01                                                      \n",
       "0                         0.00               /home/awa/awa_data/12-07_6DReconstruction/reco...   \n",
       "                         -5.63               /home/awa/awa_data/12-07_6DReconstruction/reco...   \n",
       "1                         0.00               /home/awa/awa_data/12-07_6DReconstruction/reco...   \n",
       "                         -5.63               /home/awa/awa_data/12-07_6DReconstruction/reco...   \n",
       "\n",
       "AWA:Bira3Ctrl:Ch10                                                                       -0.05  \\\n",
       "pi:QBCR1:Ch7:EnablePulse AWA:Bira4Ctrl:Ch01                                                      \n",
       "0                         0.00               /home/awa/awa_data/12-07_6DReconstruction/reco...   \n",
       "                         -5.63               /home/awa/awa_data/12-07_6DReconstruction/reco...   \n",
       "1                         0.00               /home/awa/awa_data/12-07_6DReconstruction/reco...   \n",
       "                         -5.63               /home/awa/awa_data/12-07_6DReconstruction/reco...   \n",
       "\n",
       "AWA:Bira3Ctrl:Ch10                           ...  \\\n",
       "pi:QBCR1:Ch7:EnablePulse AWA:Bira4Ctrl:Ch01  ...   \n",
       "0                         0.00               ...   \n",
       "                         -5.63               ...   \n",
       "1                         0.00               ...   \n",
       "                         -5.63               ...   \n",
       "\n",
       "AWA:Bira3Ctrl:Ch10                                                                        0.05  \\\n",
       "pi:QBCR1:Ch7:EnablePulse AWA:Bira4Ctrl:Ch01                                                      \n",
       "0                         0.00               /home/awa/awa_data/12-07_6DReconstruction/reco...   \n",
       "                         -5.63               /home/awa/awa_data/12-07_6DReconstruction/reco...   \n",
       "1                         0.00               /home/awa/awa_data/12-07_6DReconstruction/reco...   \n",
       "                         -5.63               /home/awa/awa_data/12-07_6DReconstruction/reco...   \n",
       "\n",
       "AWA:Bira3Ctrl:Ch10                                                                        0.10  \\\n",
       "pi:QBCR1:Ch7:EnablePulse AWA:Bira4Ctrl:Ch01                                                      \n",
       "0                         0.00               /home/awa/awa_data/12-07_6DReconstruction/reco...   \n",
       "                         -5.63               /home/awa/awa_data/12-07_6DReconstruction/reco...   \n",
       "1                         0.00               /home/awa/awa_data/12-07_6DReconstruction/reco...   \n",
       "                         -5.63               /home/awa/awa_data/12-07_6DReconstruction/reco...   \n",
       "\n",
       "AWA:Bira3Ctrl:Ch10                                                                        0.15  \\\n",
       "pi:QBCR1:Ch7:EnablePulse AWA:Bira4Ctrl:Ch01                                                      \n",
       "0                         0.00               /home/awa/awa_data/12-07_6DReconstruction/reco...   \n",
       "                         -5.63               /home/awa/awa_data/12-07_6DReconstruction/reco...   \n",
       "1                         0.00               /home/awa/awa_data/12-07_6DReconstruction/reco...   \n",
       "                         -5.63               /home/awa/awa_data/12-07_6DReconstruction/reco...   \n",
       "\n",
       "AWA:Bira3Ctrl:Ch10                                                                        0.20  \\\n",
       "pi:QBCR1:Ch7:EnablePulse AWA:Bira4Ctrl:Ch01                                                      \n",
       "0                         0.00               /home/awa/awa_data/12-07_6DReconstruction/reco...   \n",
       "                         -5.63               /home/awa/awa_data/12-07_6DReconstruction/reco...   \n",
       "1                         0.00               /home/awa/awa_data/12-07_6DReconstruction/reco...   \n",
       "                         -5.63               /home/awa/awa_data/12-07_6DReconstruction/reco...   \n",
       "\n",
       "AWA:Bira3Ctrl:Ch10                                                                        0.25  \\\n",
       "pi:QBCR1:Ch7:EnablePulse AWA:Bira4Ctrl:Ch01                                                      \n",
       "0                         0.00               /home/awa/awa_data/12-07_6DReconstruction/reco...   \n",
       "                         -5.63               /home/awa/awa_data/12-07_6DReconstruction/reco...   \n",
       "1                         0.00               /home/awa/awa_data/12-07_6DReconstruction/reco...   \n",
       "                         -5.63               /home/awa/awa_data/12-07_6DReconstruction/reco...   \n",
       "\n",
       "AWA:Bira3Ctrl:Ch10                                                                        0.30  \\\n",
       "pi:QBCR1:Ch7:EnablePulse AWA:Bira4Ctrl:Ch01                                                      \n",
       "0                         0.00               /home/awa/awa_data/12-07_6DReconstruction/reco...   \n",
       "                         -5.63               /home/awa/awa_data/12-07_6DReconstruction/reco...   \n",
       "1                         0.00               /home/awa/awa_data/12-07_6DReconstruction/reco...   \n",
       "                         -5.63               /home/awa/awa_data/12-07_6DReconstruction/reco...   \n",
       "\n",
       "AWA:Bira3Ctrl:Ch10                                                                        0.35  \\\n",
       "pi:QBCR1:Ch7:EnablePulse AWA:Bira4Ctrl:Ch01                                                      \n",
       "0                         0.00               /home/awa/awa_data/12-07_6DReconstruction/reco...   \n",
       "                         -5.63               /home/awa/awa_data/12-07_6DReconstruction/reco...   \n",
       "1                         0.00               /home/awa/awa_data/12-07_6DReconstruction/reco...   \n",
       "                         -5.63               /home/awa/awa_data/12-07_6DReconstruction/reco...   \n",
       "\n",
       "AWA:Bira3Ctrl:Ch10                                                                        0.40  \\\n",
       "pi:QBCR1:Ch7:EnablePulse AWA:Bira4Ctrl:Ch01                                                      \n",
       "0                         0.00               /home/awa/awa_data/12-07_6DReconstruction/reco...   \n",
       "                         -5.63               /home/awa/awa_data/12-07_6DReconstruction/reco...   \n",
       "1                         0.00               /home/awa/awa_data/12-07_6DReconstruction/reco...   \n",
       "                         -5.63               /home/awa/awa_data/12-07_6DReconstruction/reco...   \n",
       "\n",
       "AWA:Bira3Ctrl:Ch10                                                                        0.45  \\\n",
       "pi:QBCR1:Ch7:EnablePulse AWA:Bira4Ctrl:Ch01                                                      \n",
       "0                         0.00               /home/awa/awa_data/12-07_6DReconstruction/reco...   \n",
       "                         -5.63               /home/awa/awa_data/12-07_6DReconstruction/reco...   \n",
       "1                         0.00               /home/awa/awa_data/12-07_6DReconstruction/reco...   \n",
       "                         -5.63               /home/awa/awa_data/12-07_6DReconstruction/reco...   \n",
       "\n",
       "AWA:Bira3Ctrl:Ch10                                                                        0.50  \n",
       "pi:QBCR1:Ch7:EnablePulse AWA:Bira4Ctrl:Ch01                                                     \n",
       "0                         0.00               /home/awa/awa_data/12-07_6DReconstruction/reco...  \n",
       "                         -5.63               /home/awa/awa_data/12-07_6DReconstruction/reco...  \n",
       "1                         0.00               /home/awa/awa_data/12-07_6DReconstruction/reco...  \n",
       "                         -5.63               /home/awa/awa_data/12-07_6DReconstruction/reco...  \n",
       "\n",
       "[4 rows x 21 columns]"
      ]
     },
     "execution_count": 9,
     "metadata": {},
     "output_type": "execute_result"
    }
   ],
   "source": [
    "pivot_data = pivot_data.sort_values([tdc_pv_name, dipole_pv_name], ascending=[True, False])\n",
    "pivot_data"
   ]
  },
  {
   "cell_type": "code",
   "execution_count": 10,
   "metadata": {
    "ExecuteTime": {
     "end_time": "2023-11-29T20:00:00.517074400Z",
     "start_time": "2023-11-29T20:00:00.475883200Z"
    },
    "collapsed": false,
    "jupyter": {
     "outputs_hidden": false
    }
   },
   "outputs": [
    {
     "name": "stdout",
     "output_type": "stream",
     "text": [
      "4 21\n"
     ]
    },
    {
     "data": {
      "text/plain": [
       "array([[['/home/awa/awa_data/12-07_6DReconstruction/reconstruction_scan/DYG14_1701987488.h5',\n",
       "         '/home/awa/awa_data/12-07_6DReconstruction/reconstruction_scan/DYG14_1701987512.h5',\n",
       "         '/home/awa/awa_data/12-07_6DReconstruction/reconstruction_scan/DYG14_1701987530.h5',\n",
       "         '/home/awa/awa_data/12-07_6DReconstruction/reconstruction_scan/DYG14_1701987546.h5',\n",
       "         '/home/awa/awa_data/12-07_6DReconstruction/reconstruction_scan/DYG14_1701987569.h5',\n",
       "         '/home/awa/awa_data/12-07_6DReconstruction/reconstruction_scan/DYG14_1701987588.h5',\n",
       "         '/home/awa/awa_data/12-07_6DReconstruction/reconstruction_scan/DYG14_1701987609.h5',\n",
       "         '/home/awa/awa_data/12-07_6DReconstruction/reconstruction_scan/DYG14_1701987635.h5',\n",
       "         '/home/awa/awa_data/12-07_6DReconstruction/reconstruction_scan/DYG14_1701987654.h5',\n",
       "         '/home/awa/awa_data/12-07_6DReconstruction/reconstruction_scan/DYG14_1701987675.h5',\n",
       "         '/home/awa/awa_data/12-07_6DReconstruction/reconstruction_scan/DYG14_1701987692.h5',\n",
       "         '/home/awa/awa_data/12-07_6DReconstruction/reconstruction_scan/DYG14_1701987709.h5',\n",
       "         '/home/awa/awa_data/12-07_6DReconstruction/reconstruction_scan/DYG14_1701987721.h5',\n",
       "         '/home/awa/awa_data/12-07_6DReconstruction/reconstruction_scan/DYG14_1701987740.h5',\n",
       "         '/home/awa/awa_data/12-07_6DReconstruction/reconstruction_scan/DYG14_1701987760.h5',\n",
       "         '/home/awa/awa_data/12-07_6DReconstruction/reconstruction_scan/DYG14_1701987791.h5',\n",
       "         '/home/awa/awa_data/12-07_6DReconstruction/reconstruction_scan/DYG14_1701987804.h5',\n",
       "         '/home/awa/awa_data/12-07_6DReconstruction/reconstruction_scan/DYG14_1701987829.h5',\n",
       "         '/home/awa/awa_data/12-07_6DReconstruction/reconstruction_scan/DYG14_1701987848.h5',\n",
       "         '/home/awa/awa_data/12-07_6DReconstruction/reconstruction_scan/DYG14_1701987876.h5',\n",
       "         '/home/awa/awa_data/12-07_6DReconstruction/reconstruction_scan/DYG14_1701987900.h5'],\n",
       "        ['/home/awa/awa_data/12-07_6DReconstruction/reconstruction_scan/DYG15_1701988429.h5',\n",
       "         '/home/awa/awa_data/12-07_6DReconstruction/reconstruction_scan/DYG15_1701988455.h5',\n",
       "         '/home/awa/awa_data/12-07_6DReconstruction/reconstruction_scan/DYG15_1701988478.h5',\n",
       "         '/home/awa/awa_data/12-07_6DReconstruction/reconstruction_scan/DYG15_1701988507.h5',\n",
       "         '/home/awa/awa_data/12-07_6DReconstruction/reconstruction_scan/DYG15_1701988525.h5',\n",
       "         '/home/awa/awa_data/12-07_6DReconstruction/reconstruction_scan/DYG15_1701988544.h5',\n",
       "         '/home/awa/awa_data/12-07_6DReconstruction/reconstruction_scan/DYG15_1701988570.h5',\n",
       "         '/home/awa/awa_data/12-07_6DReconstruction/reconstruction_scan/DYG15_1701988585.h5',\n",
       "         '/home/awa/awa_data/12-07_6DReconstruction/reconstruction_scan/DYG15_1701988620.h5',\n",
       "         '/home/awa/awa_data/12-07_6DReconstruction/reconstruction_scan/DYG15_1701988643.h5',\n",
       "         '/home/awa/awa_data/12-07_6DReconstruction/reconstruction_scan/DYG15_1701988674.h5',\n",
       "         '/home/awa/awa_data/12-07_6DReconstruction/reconstruction_scan/DYG15_1701988701.h5',\n",
       "         '/home/awa/awa_data/12-07_6DReconstruction/reconstruction_scan/DYG15_1701988721.h5',\n",
       "         '/home/awa/awa_data/12-07_6DReconstruction/reconstruction_scan/DYG15_1701988745.h5',\n",
       "         '/home/awa/awa_data/12-07_6DReconstruction/reconstruction_scan/DYG15_1701988761.h5',\n",
       "         '/home/awa/awa_data/12-07_6DReconstruction/reconstruction_scan/DYG15_1701988791.h5',\n",
       "         '/home/awa/awa_data/12-07_6DReconstruction/reconstruction_scan/DYG15_1701988807.h5',\n",
       "         '/home/awa/awa_data/12-07_6DReconstruction/reconstruction_scan/DYG15_1701988840.h5',\n",
       "         '/home/awa/awa_data/12-07_6DReconstruction/reconstruction_scan/DYG15_1701988866.h5',\n",
       "         '/home/awa/awa_data/12-07_6DReconstruction/reconstruction_scan/DYG15_1701988898.h5',\n",
       "         '/home/awa/awa_data/12-07_6DReconstruction/reconstruction_scan/DYG15_1701988918.h5']],\n",
       "\n",
       "       [['/home/awa/awa_data/12-07_6DReconstruction/reconstruction_scan/DYG14_1701987917.h5',\n",
       "         '/home/awa/awa_data/12-07_6DReconstruction/reconstruction_scan/DYG14_1701987944.h5',\n",
       "         '/home/awa/awa_data/12-07_6DReconstruction/reconstruction_scan/DYG14_1701987960.h5',\n",
       "         '/home/awa/awa_data/12-07_6DReconstruction/reconstruction_scan/DYG14_1701987982.h5',\n",
       "         '/home/awa/awa_data/12-07_6DReconstruction/reconstruction_scan/DYG14_1701988010.h5',\n",
       "         '/home/awa/awa_data/12-07_6DReconstruction/reconstruction_scan/DYG14_1701988033.h5',\n",
       "         '/home/awa/awa_data/12-07_6DReconstruction/reconstruction_scan/DYG14_1701988062.h5',\n",
       "         '/home/awa/awa_data/12-07_6DReconstruction/reconstruction_scan/DYG14_1701988081.h5',\n",
       "         '/home/awa/awa_data/12-07_6DReconstruction/reconstruction_scan/DYG14_1701988099.h5',\n",
       "         '/home/awa/awa_data/12-07_6DReconstruction/reconstruction_scan/DYG14_1701988127.h5',\n",
       "         '/home/awa/awa_data/12-07_6DReconstruction/reconstruction_scan/DYG14_1701988142.h5',\n",
       "         '/home/awa/awa_data/12-07_6DReconstruction/reconstruction_scan/DYG14_1701988165.h5',\n",
       "         '/home/awa/awa_data/12-07_6DReconstruction/reconstruction_scan/DYG14_1701988188.h5',\n",
       "         '/home/awa/awa_data/12-07_6DReconstruction/reconstruction_scan/DYG14_1701988208.h5',\n",
       "         '/home/awa/awa_data/12-07_6DReconstruction/reconstruction_scan/DYG14_1701988234.h5',\n",
       "         '/home/awa/awa_data/12-07_6DReconstruction/reconstruction_scan/DYG14_1701988253.h5',\n",
       "         '/home/awa/awa_data/12-07_6DReconstruction/reconstruction_scan/DYG14_1701988278.h5',\n",
       "         '/home/awa/awa_data/12-07_6DReconstruction/reconstruction_scan/DYG14_1701988291.h5',\n",
       "         '/home/awa/awa_data/12-07_6DReconstruction/reconstruction_scan/DYG14_1701988312.h5',\n",
       "         '/home/awa/awa_data/12-07_6DReconstruction/reconstruction_scan/DYG14_1701988338.h5',\n",
       "         '/home/awa/awa_data/12-07_6DReconstruction/reconstruction_scan/DYG14_1701988374.h5'],\n",
       "        ['/home/awa/awa_data/12-07_6DReconstruction/reconstruction_scan/DYG15_1701988952.h5',\n",
       "         '/home/awa/awa_data/12-07_6DReconstruction/reconstruction_scan/DYG15_1701988978.h5',\n",
       "         '/home/awa/awa_data/12-07_6DReconstruction/reconstruction_scan/DYG15_1701988999.h5',\n",
       "         '/home/awa/awa_data/12-07_6DReconstruction/reconstruction_scan/DYG15_1701989020.h5',\n",
       "         '/home/awa/awa_data/12-07_6DReconstruction/reconstruction_scan/DYG15_1701989042.h5',\n",
       "         '/home/awa/awa_data/12-07_6DReconstruction/reconstruction_scan/DYG15_1701989066.h5',\n",
       "         '/home/awa/awa_data/12-07_6DReconstruction/reconstruction_scan/DYG15_1701989099.h5',\n",
       "         '/home/awa/awa_data/12-07_6DReconstruction/reconstruction_scan/DYG15_1701989121.h5',\n",
       "         '/home/awa/awa_data/12-07_6DReconstruction/reconstruction_scan/DYG15_1701989160.h5',\n",
       "         '/home/awa/awa_data/12-07_6DReconstruction/reconstruction_scan/DYG15_1701989189.h5',\n",
       "         '/home/awa/awa_data/12-07_6DReconstruction/reconstruction_scan/DYG15_1701989214.h5',\n",
       "         '/home/awa/awa_data/12-07_6DReconstruction/reconstruction_scan/DYG15_1701989254.h5',\n",
       "         '/home/awa/awa_data/12-07_6DReconstruction/reconstruction_scan/DYG15_1701989269.h5',\n",
       "         '/home/awa/awa_data/12-07_6DReconstruction/reconstruction_scan/DYG15_1701989290.h5',\n",
       "         '/home/awa/awa_data/12-07_6DReconstruction/reconstruction_scan/DYG15_1701989321.h5',\n",
       "         '/home/awa/awa_data/12-07_6DReconstruction/reconstruction_scan/DYG15_1701989363.h5',\n",
       "         '/home/awa/awa_data/12-07_6DReconstruction/reconstruction_scan/DYG15_1701989388.h5',\n",
       "         '/home/awa/awa_data/12-07_6DReconstruction/reconstruction_scan/DYG15_1701989425.h5',\n",
       "         '/home/awa/awa_data/12-07_6DReconstruction/reconstruction_scan/DYG15_1701989453.h5',\n",
       "         '/home/awa/awa_data/12-07_6DReconstruction/reconstruction_scan/DYG15_1701989477.h5',\n",
       "         '/home/awa/awa_data/12-07_6DReconstruction/reconstruction_scan/DYG15_1701989507.h5']]],\n",
       "      dtype=object)"
      ]
     },
     "execution_count": 10,
     "metadata": {},
     "output_type": "execute_result"
    }
   ],
   "source": [
    "# get numpy values in the correct shape\n",
    "num_rows, num_cols = pivot_data.shape\n",
    "print(num_rows, num_cols)\n",
    "fnames = pivot_data.values.reshape(2,2,num_cols)\n",
    "fnames "
   ]
  },
  {
   "cell_type": "code",
   "execution_count": 11,
   "metadata": {
    "ExecuteTime": {
     "end_time": "2023-11-29T20:00:00.517074400Z",
     "start_time": "2023-11-29T20:00:00.484885600Z"
    },
    "collapsed": false,
    "jupyter": {
     "outputs_hidden": false
    }
   },
   "outputs": [],
   "source": [
    "# create function to get data from h5 files\n",
    "import numpy as np\n",
    "def read_file(fname):\n",
    "    with h5py.File(fname) as f:\n",
    "        data_x = np.array((\n",
    "            f[\"images\"].attrs[quad_pv_name],\n",
    "            f[\"images\"].attrs[tdc_pv_name],\n",
    "            f[\"images\"].attrs[dipole_pv_name],\n",
    "        ))\n",
    "        images = f[\"images\"][:]\n",
    "\n",
    "    return data_x, images"
   ]
  },
  {
   "cell_type": "code",
   "execution_count": 12,
   "metadata": {},
   "outputs": [],
   "source": [
    "# function to map PV values to physical values\n",
    "\n",
    "p0c = 62.0e6 # design momentum eV/c\n",
    "C_LIGHT = 299792458\n",
    "TDC_V = 3.7e6 # need to double check this value // verify calibration value\n",
    "BEND_ON_PV_VALUE = -5.63 # double check\n",
    "theta = 20.0*3.1416/180.0 # bend angle in radians\n",
    "l_bend = 0.3018 # bend length\n",
    "l_arc = l_bend * theta / (2*np.sin(theta/2)) # arc length when dipole on\n",
    "BEND_G = theta/l_arc # double check 0.3018 value\n",
    "\n",
    "def quad_pv_to_k(quad_pv_value, p0c):\n",
    "    gradient = quad_pv_value*100*1.32e-2/1.29*1.04\n",
    "    beam_rigidity = p0c / C_LIGHT\n",
    "    return gradient / beam_rigidity\n",
    "\n",
    "def tdc_pv_to_v(tdc_pv_value):\n",
    "    if tdc_pv_value == 0:\n",
    "        return 0\n",
    "    elif tdc_pv_value == 1:\n",
    "        return TDC_V\n",
    "    else: \n",
    "        raise ValueError(\"TDC PV value must be 0 or 1\")\n",
    "    \n",
    "def bend_pv_to_g(bend_pv_value):\n",
    "    if bend_pv_value == 0:\n",
    "        return 2.22e-16 #machine epsilon for differentiability\n",
    "    elif bend_pv_value == BEND_ON_PV_VALUE:\n",
    "        return BEND_G\n",
    "    else:\n",
    "        raise ValueError(\"BEND PV value must be 0 or {}\".format(BEND_ON_PV_VALUE))"
   ]
  },
  {
   "cell_type": "code",
   "execution_count": 13,
   "metadata": {
    "ExecuteTime": {
     "end_time": "2023-11-29T20:00:04.217625300Z",
     "start_time": "2023-11-29T20:00:00.508074600Z"
    },
    "collapsed": false,
    "jupyter": {
     "outputs_hidden": false
    }
   },
   "outputs": [
    {
     "name": "stdout",
     "output_type": "stream",
     "text": [
      "[-0.5  0.   0. ]\n",
      "[-2.5728625052663165, 0, 2.22e-16]\n",
      "(10, 700, 700)\n",
      "[-0.45  0.    0.  ]\n",
      "[-2.315576254739685, 0, 2.22e-16]\n",
      "(10, 700, 700)\n",
      "[-0.4  0.   0. ]\n",
      "[-2.0582900042130534, 0, 2.22e-16]\n",
      "(10, 700, 700)\n",
      "[-0.35  0.    0.  ]\n",
      "[-1.8010037536864216, 0, 2.22e-16]\n",
      "(10, 700, 700)\n",
      "[-0.3  0.   0. ]\n",
      "[-1.54371750315979, 0, 2.22e-16]\n",
      "(10, 700, 700)\n",
      "[-0.25  0.    0.  ]\n",
      "[-1.2864312526331583, 0, 2.22e-16]\n",
      "(10, 700, 700)\n",
      "[-0.2  0.   0. ]\n",
      "[-1.0291450021065265, 0, 2.22e-16]\n",
      "(10, 700, 700)\n",
      "[-0.15  0.    0.  ]\n",
      "[-0.7718587515798948, 0, 2.22e-16]\n",
      "(10, 700, 700)\n",
      "[-0.1  0.   0. ]\n",
      "[-0.5145725010532632, 0, 2.22e-16]\n",
      "(10, 700, 700)\n",
      "[-0.05  0.    0.  ]\n",
      "[-0.2572862505266316, 0, 2.22e-16]\n",
      "(10, 700, 700)\n",
      "[0. 0. 0.]\n",
      "[0.0, 0, 2.22e-16]\n",
      "(10, 700, 700)\n",
      "[0.05 0.   0.  ]\n",
      "[0.25728625052663184, 0, 2.22e-16]\n",
      "(10, 700, 700)\n",
      "[0.1 0.  0. ]\n",
      "[0.5145725010532637, 0, 2.22e-16]\n",
      "(10, 700, 700)\n",
      "[0.15 0.   0.  ]\n",
      "[0.771858751579895, 0, 2.22e-16]\n",
      "(10, 700, 700)\n",
      "[0.2 0.  0. ]\n",
      "[1.029145002106527, 0, 2.22e-16]\n",
      "(10, 700, 700)\n",
      "[0.25 0.   0.  ]\n",
      "[1.2864312526331583, 0, 2.22e-16]\n",
      "(10, 700, 700)\n",
      "[0.3 0.  0. ]\n",
      "[1.54371750315979, 0, 2.22e-16]\n",
      "(10, 700, 700)\n",
      "[0.35 0.   0.  ]\n",
      "[1.8010037536864218, 0, 2.22e-16]\n",
      "(10, 700, 700)\n",
      "[0.4 0.  0. ]\n",
      "[2.0582900042130534, 0, 2.22e-16]\n",
      "(10, 700, 700)\n",
      "[0.45 0.   0.  ]\n",
      "[2.3155762547396854, 0, 2.22e-16]\n",
      "(10, 700, 700)\n",
      "[0.5 0.  0. ]\n",
      "[2.5728625052663165, 0, 2.22e-16]\n",
      "(10, 700, 700)\n",
      "[-0.5   0.   -5.63]\n",
      "[-2.5728625052663165, 0, 1.1507526812481461]\n",
      "(10, 700, 700)\n",
      "[-0.45  0.   -5.63]\n",
      "[-2.315576254739685, 0, 1.1507526812481461]\n",
      "(10, 700, 700)\n",
      "[-0.4   0.   -5.63]\n",
      "[-2.0582900042130534, 0, 1.1507526812481461]\n",
      "(10, 700, 700)\n",
      "[-0.35  0.   -5.63]\n",
      "[-1.8010037536864216, 0, 1.1507526812481461]\n",
      "(10, 700, 700)\n",
      "[-0.3   0.   -5.63]\n",
      "[-1.54371750315979, 0, 1.1507526812481461]\n",
      "(10, 700, 700)\n",
      "[-0.25  0.   -5.63]\n",
      "[-1.2864312526331583, 0, 1.1507526812481461]\n",
      "(10, 700, 700)\n",
      "[-0.2   0.   -5.63]\n",
      "[-1.0291450021065265, 0, 1.1507526812481461]\n",
      "(10, 700, 700)\n",
      "[-0.15  0.   -5.63]\n",
      "[-0.7718587515798948, 0, 1.1507526812481461]\n",
      "(10, 700, 700)\n",
      "[-0.1   0.   -5.63]\n",
      "[-0.5145725010532632, 0, 1.1507526812481461]\n",
      "(10, 700, 700)\n",
      "[-0.05  0.   -5.63]\n",
      "[-0.2572862505266316, 0, 1.1507526812481461]\n",
      "(10, 700, 700)\n",
      "[ 0.    0.   -5.63]\n",
      "[0.0, 0, 1.1507526812481461]\n",
      "(10, 700, 700)\n",
      "[ 0.05  0.   -5.63]\n",
      "[0.25728625052663184, 0, 1.1507526812481461]\n",
      "(10, 700, 700)\n",
      "[ 0.1   0.   -5.63]\n",
      "[0.5145725010532637, 0, 1.1507526812481461]\n",
      "(10, 700, 700)\n",
      "[ 0.15  0.   -5.63]\n",
      "[0.771858751579895, 0, 1.1507526812481461]\n",
      "(10, 700, 700)\n",
      "[ 0.2   0.   -5.63]\n",
      "[1.029145002106527, 0, 1.1507526812481461]\n",
      "(10, 700, 700)\n",
      "[ 0.25  0.   -5.63]\n",
      "[1.2864312526331583, 0, 1.1507526812481461]\n",
      "(10, 700, 700)\n",
      "[ 0.3   0.   -5.63]\n",
      "[1.54371750315979, 0, 1.1507526812481461]\n",
      "(10, 700, 700)\n",
      "[ 0.35  0.   -5.63]\n",
      "[1.8010037536864218, 0, 1.1507526812481461]\n",
      "(10, 700, 700)\n",
      "[ 0.4   0.   -5.63]\n",
      "[2.0582900042130534, 0, 1.1507526812481461]\n",
      "(10, 700, 700)\n",
      "[ 0.45  0.   -5.63]\n",
      "[2.3155762547396854, 0, 1.1507526812481461]\n",
      "(10, 700, 700)\n",
      "[ 0.5   0.   -5.63]\n",
      "[2.5728625052663165, 0, 1.1507526812481461]\n",
      "(10, 700, 700)\n",
      "[-0.5  1.   0. ]\n",
      "[-2.5728625052663165, 3700000.0, 2.22e-16]\n",
      "(10, 700, 700)\n",
      "[-0.45  1.    0.  ]\n",
      "[-2.315576254739685, 3700000.0, 2.22e-16]\n",
      "(10, 700, 700)\n",
      "[-0.4  1.   0. ]\n",
      "[-2.0582900042130534, 3700000.0, 2.22e-16]\n",
      "(10, 700, 700)\n",
      "[-0.35  1.    0.  ]\n",
      "[-1.8010037536864216, 3700000.0, 2.22e-16]\n",
      "(10, 700, 700)\n",
      "[-0.3  1.   0. ]\n",
      "[-1.54371750315979, 3700000.0, 2.22e-16]\n",
      "(10, 700, 700)\n",
      "[-0.25  1.    0.  ]\n",
      "[-1.2864312526331583, 3700000.0, 2.22e-16]\n",
      "(10, 700, 700)\n",
      "[-0.2  1.   0. ]\n",
      "[-1.0291450021065265, 3700000.0, 2.22e-16]\n",
      "(10, 700, 700)\n",
      "[-0.15  1.    0.  ]\n",
      "[-0.7718587515798948, 3700000.0, 2.22e-16]\n",
      "(10, 700, 700)\n",
      "[-0.1  1.   0. ]\n",
      "[-0.5145725010532632, 3700000.0, 2.22e-16]\n",
      "(10, 700, 700)\n",
      "[-0.05  1.    0.  ]\n",
      "[-0.2572862505266316, 3700000.0, 2.22e-16]\n",
      "(10, 700, 700)\n",
      "[0. 1. 0.]\n",
      "[0.0, 3700000.0, 2.22e-16]\n",
      "(10, 700, 700)\n",
      "[0.05 1.   0.  ]\n",
      "[0.25728625052663184, 3700000.0, 2.22e-16]\n",
      "(10, 700, 700)\n",
      "[0.1 1.  0. ]\n",
      "[0.5145725010532637, 3700000.0, 2.22e-16]\n",
      "(10, 700, 700)\n",
      "[0.15 1.   0.  ]\n",
      "[0.771858751579895, 3700000.0, 2.22e-16]\n",
      "(10, 700, 700)\n",
      "[0.2 1.  0. ]\n",
      "[1.029145002106527, 3700000.0, 2.22e-16]\n",
      "(10, 700, 700)\n",
      "[0.25 1.   0.  ]\n",
      "[1.2864312526331583, 3700000.0, 2.22e-16]\n",
      "(10, 700, 700)\n",
      "[0.3 1.  0. ]\n",
      "[1.54371750315979, 3700000.0, 2.22e-16]\n",
      "(10, 700, 700)\n",
      "[0.35 1.   0.  ]\n",
      "[1.8010037536864218, 3700000.0, 2.22e-16]\n",
      "(10, 700, 700)\n",
      "[0.4 1.  0. ]\n",
      "[2.0582900042130534, 3700000.0, 2.22e-16]\n",
      "(10, 700, 700)\n",
      "[0.45 1.   0.  ]\n",
      "[2.3155762547396854, 3700000.0, 2.22e-16]\n",
      "(10, 700, 700)\n",
      "[0.5 1.  0. ]\n",
      "[2.5728625052663165, 3700000.0, 2.22e-16]\n",
      "(10, 700, 700)\n",
      "[-0.5   1.   -5.63]\n",
      "[-2.5728625052663165, 3700000.0, 1.1507526812481461]\n",
      "(10, 700, 700)\n",
      "[-0.45  1.   -5.63]\n",
      "[-2.315576254739685, 3700000.0, 1.1507526812481461]\n",
      "(10, 700, 700)\n",
      "[-0.4   1.   -5.63]\n",
      "[-2.0582900042130534, 3700000.0, 1.1507526812481461]\n",
      "(10, 700, 700)\n",
      "[-0.35  1.   -5.63]\n",
      "[-1.8010037536864216, 3700000.0, 1.1507526812481461]\n",
      "(10, 700, 700)\n",
      "[-0.3   1.   -5.63]\n",
      "[-1.54371750315979, 3700000.0, 1.1507526812481461]\n",
      "(10, 700, 700)\n",
      "[-0.25  1.   -5.63]\n",
      "[-1.2864312526331583, 3700000.0, 1.1507526812481461]\n",
      "(10, 700, 700)\n",
      "[-0.2   1.   -5.63]\n",
      "[-1.0291450021065265, 3700000.0, 1.1507526812481461]\n",
      "(10, 700, 700)\n",
      "[-0.15  1.   -5.63]\n",
      "[-0.7718587515798948, 3700000.0, 1.1507526812481461]\n",
      "(10, 700, 700)\n",
      "[-0.1   1.   -5.63]\n",
      "[-0.5145725010532632, 3700000.0, 1.1507526812481461]\n",
      "(10, 700, 700)\n",
      "[-0.05  1.   -5.63]\n",
      "[-0.2572862505266316, 3700000.0, 1.1507526812481461]\n",
      "(10, 700, 700)\n",
      "[ 0.    1.   -5.63]\n",
      "[0.0, 3700000.0, 1.1507526812481461]\n",
      "(10, 700, 700)\n",
      "[ 0.05  1.   -5.63]\n",
      "[0.25728625052663184, 3700000.0, 1.1507526812481461]\n",
      "(10, 700, 700)\n",
      "[ 0.1   1.   -5.63]\n",
      "[0.5145725010532637, 3700000.0, 1.1507526812481461]\n",
      "(10, 700, 700)\n",
      "[ 0.15  1.   -5.63]\n",
      "[0.771858751579895, 3700000.0, 1.1507526812481461]\n",
      "(10, 700, 700)\n",
      "[ 0.2   1.   -5.63]\n",
      "[1.029145002106527, 3700000.0, 1.1507526812481461]\n",
      "(10, 700, 700)\n",
      "[ 0.25  1.   -5.63]\n",
      "[1.2864312526331583, 3700000.0, 1.1507526812481461]\n",
      "(10, 700, 700)\n",
      "[ 0.3   1.   -5.63]\n",
      "[1.54371750315979, 3700000.0, 1.1507526812481461]\n",
      "(10, 700, 700)\n",
      "[ 0.35  1.   -5.63]\n",
      "[1.8010037536864218, 3700000.0, 1.1507526812481461]\n",
      "(10, 700, 700)\n",
      "[ 0.4   1.   -5.63]\n",
      "[2.0582900042130534, 3700000.0, 1.1507526812481461]\n",
      "(10, 700, 700)\n",
      "[ 0.45  1.   -5.63]\n",
      "[2.3155762547396854, 3700000.0, 1.1507526812481461]\n",
      "(10, 700, 700)\n",
      "[ 0.5   1.   -5.63]\n",
      "[2.5728625052663165, 3700000.0, 1.1507526812481461]\n",
      "(10, 700, 700)\n"
     ]
    }
   ],
   "source": [
    "# get data from files\n",
    "\n",
    "train_x = []\n",
    "train_x_physical_units = []\n",
    "train_y = []\n",
    "for i in range(len(fnames)):\n",
    "    tx = []\n",
    "    txp = []\n",
    "    ty = []\n",
    "    for j in range(len(fnames[0])):\n",
    "        ttx = []\n",
    "        ttxp = []\n",
    "        tty = []\n",
    "        for k in range(len(fnames[0,0])):\n",
    "            fname_list = os.path.split(fnames[i,j,k])\n",
    "            fname = os.path.join(data_path, fname_list[-1])\n",
    "            \n",
    "            data_x, images = read_file(fname)\n",
    "\n",
    "            print(data_x)\n",
    "            k = quad_pv_to_k(data_x[0], p0c)\n",
    "            v = tdc_pv_to_v(data_x[1])\n",
    "            g = bend_pv_to_g(data_x[2])\n",
    "            data_x_physical_units = [k, v, g]\n",
    "            print(data_x_physical_units)\n",
    "            print(images.shape)\n",
    "\n",
    "            ttx += [data_x]\n",
    "            ttxp += [data_x_physical_units]\n",
    "            tty += [images]\n",
    "\n",
    "        tx += [ttx]\n",
    "        txp += [ttxp]\n",
    "        ty += [tty]\n",
    "\n",
    "    train_x += [tx]\n",
    "    train_x_physical_units += [txp]\n",
    "    train_y += [ty]\n",
    "\n",
    "train_x = np.array(train_x).transpose([2,0,1,3])\n",
    "train_x_physical_units = np.array(train_x_physical_units).transpose([2,0,1,3])\n",
    "train_y = np.array(train_y).transpose([2,0,1,3,4,5])\n",
    "\n",
    "##\n",
    "# params: [number of quad strengths, number of tdc voltages (2, off/on), number of dipole angles (2, off/on),\n",
    "# number of scanning elements (3)]\n",
    "# images: [number of quad strengths, number of tdc voltages (2, off/on), number of\n",
    "# dipole angles (2, off/on), number of images per parameter configuration, width in pixels, height in pixels]"
   ]
  },
  {
   "cell_type": "code",
   "execution_count": 14,
   "metadata": {
    "ExecuteTime": {
     "end_time": "2023-11-29T20:00:04.233591Z",
     "start_time": "2023-11-29T20:00:04.220591900Z"
    },
    "collapsed": false,
    "jupyter": {
     "outputs_hidden": false
    }
   },
   "outputs": [
    {
     "data": {
      "text/plain": [
       "(21, 2, 2, 3)"
      ]
     },
     "execution_count": 14,
     "metadata": {},
     "output_type": "execute_result"
    }
   ],
   "source": [
    "train_x.shape"
   ]
  },
  {
   "cell_type": "code",
   "execution_count": 15,
   "metadata": {},
   "outputs": [
    {
     "data": {
      "text/plain": [
       "array([[[[-0.5 ,  0.  ,  0.  ],\n",
       "         [-0.5 ,  0.  , -5.63]],\n",
       "\n",
       "        [[-0.5 ,  1.  ,  0.  ],\n",
       "         [-0.5 ,  1.  , -5.63]]],\n",
       "\n",
       "\n",
       "       [[[-0.45,  0.  ,  0.  ],\n",
       "         [-0.45,  0.  , -5.63]],\n",
       "\n",
       "        [[-0.45,  1.  ,  0.  ],\n",
       "         [-0.45,  1.  , -5.63]]],\n",
       "\n",
       "\n",
       "       [[[-0.4 ,  0.  ,  0.  ],\n",
       "         [-0.4 ,  0.  , -5.63]],\n",
       "\n",
       "        [[-0.4 ,  1.  ,  0.  ],\n",
       "         [-0.4 ,  1.  , -5.63]]],\n",
       "\n",
       "\n",
       "       [[[-0.35,  0.  ,  0.  ],\n",
       "         [-0.35,  0.  , -5.63]],\n",
       "\n",
       "        [[-0.35,  1.  ,  0.  ],\n",
       "         [-0.35,  1.  , -5.63]]],\n",
       "\n",
       "\n",
       "       [[[-0.3 ,  0.  ,  0.  ],\n",
       "         [-0.3 ,  0.  , -5.63]],\n",
       "\n",
       "        [[-0.3 ,  1.  ,  0.  ],\n",
       "         [-0.3 ,  1.  , -5.63]]],\n",
       "\n",
       "\n",
       "       [[[-0.25,  0.  ,  0.  ],\n",
       "         [-0.25,  0.  , -5.63]],\n",
       "\n",
       "        [[-0.25,  1.  ,  0.  ],\n",
       "         [-0.25,  1.  , -5.63]]],\n",
       "\n",
       "\n",
       "       [[[-0.2 ,  0.  ,  0.  ],\n",
       "         [-0.2 ,  0.  , -5.63]],\n",
       "\n",
       "        [[-0.2 ,  1.  ,  0.  ],\n",
       "         [-0.2 ,  1.  , -5.63]]],\n",
       "\n",
       "\n",
       "       [[[-0.15,  0.  ,  0.  ],\n",
       "         [-0.15,  0.  , -5.63]],\n",
       "\n",
       "        [[-0.15,  1.  ,  0.  ],\n",
       "         [-0.15,  1.  , -5.63]]],\n",
       "\n",
       "\n",
       "       [[[-0.1 ,  0.  ,  0.  ],\n",
       "         [-0.1 ,  0.  , -5.63]],\n",
       "\n",
       "        [[-0.1 ,  1.  ,  0.  ],\n",
       "         [-0.1 ,  1.  , -5.63]]],\n",
       "\n",
       "\n",
       "       [[[-0.05,  0.  ,  0.  ],\n",
       "         [-0.05,  0.  , -5.63]],\n",
       "\n",
       "        [[-0.05,  1.  ,  0.  ],\n",
       "         [-0.05,  1.  , -5.63]]],\n",
       "\n",
       "\n",
       "       [[[ 0.  ,  0.  ,  0.  ],\n",
       "         [ 0.  ,  0.  , -5.63]],\n",
       "\n",
       "        [[ 0.  ,  1.  ,  0.  ],\n",
       "         [ 0.  ,  1.  , -5.63]]],\n",
       "\n",
       "\n",
       "       [[[ 0.05,  0.  ,  0.  ],\n",
       "         [ 0.05,  0.  , -5.63]],\n",
       "\n",
       "        [[ 0.05,  1.  ,  0.  ],\n",
       "         [ 0.05,  1.  , -5.63]]],\n",
       "\n",
       "\n",
       "       [[[ 0.1 ,  0.  ,  0.  ],\n",
       "         [ 0.1 ,  0.  , -5.63]],\n",
       "\n",
       "        [[ 0.1 ,  1.  ,  0.  ],\n",
       "         [ 0.1 ,  1.  , -5.63]]],\n",
       "\n",
       "\n",
       "       [[[ 0.15,  0.  ,  0.  ],\n",
       "         [ 0.15,  0.  , -5.63]],\n",
       "\n",
       "        [[ 0.15,  1.  ,  0.  ],\n",
       "         [ 0.15,  1.  , -5.63]]],\n",
       "\n",
       "\n",
       "       [[[ 0.2 ,  0.  ,  0.  ],\n",
       "         [ 0.2 ,  0.  , -5.63]],\n",
       "\n",
       "        [[ 0.2 ,  1.  ,  0.  ],\n",
       "         [ 0.2 ,  1.  , -5.63]]],\n",
       "\n",
       "\n",
       "       [[[ 0.25,  0.  ,  0.  ],\n",
       "         [ 0.25,  0.  , -5.63]],\n",
       "\n",
       "        [[ 0.25,  1.  ,  0.  ],\n",
       "         [ 0.25,  1.  , -5.63]]],\n",
       "\n",
       "\n",
       "       [[[ 0.3 ,  0.  ,  0.  ],\n",
       "         [ 0.3 ,  0.  , -5.63]],\n",
       "\n",
       "        [[ 0.3 ,  1.  ,  0.  ],\n",
       "         [ 0.3 ,  1.  , -5.63]]],\n",
       "\n",
       "\n",
       "       [[[ 0.35,  0.  ,  0.  ],\n",
       "         [ 0.35,  0.  , -5.63]],\n",
       "\n",
       "        [[ 0.35,  1.  ,  0.  ],\n",
       "         [ 0.35,  1.  , -5.63]]],\n",
       "\n",
       "\n",
       "       [[[ 0.4 ,  0.  ,  0.  ],\n",
       "         [ 0.4 ,  0.  , -5.63]],\n",
       "\n",
       "        [[ 0.4 ,  1.  ,  0.  ],\n",
       "         [ 0.4 ,  1.  , -5.63]]],\n",
       "\n",
       "\n",
       "       [[[ 0.45,  0.  ,  0.  ],\n",
       "         [ 0.45,  0.  , -5.63]],\n",
       "\n",
       "        [[ 0.45,  1.  ,  0.  ],\n",
       "         [ 0.45,  1.  , -5.63]]],\n",
       "\n",
       "\n",
       "       [[[ 0.5 ,  0.  ,  0.  ],\n",
       "         [ 0.5 ,  0.  , -5.63]],\n",
       "\n",
       "        [[ 0.5 ,  1.  ,  0.  ],\n",
       "         [ 0.5 ,  1.  , -5.63]]]])"
      ]
     },
     "execution_count": 15,
     "metadata": {},
     "output_type": "execute_result"
    }
   ],
   "source": [
    "# sort\n",
    "train_x.sort(axis=0)\n",
    "train_x"
   ]
  },
  {
   "cell_type": "code",
   "execution_count": 16,
   "metadata": {},
   "outputs": [
    {
     "data": {
      "text/plain": [
       "(21, 2, 2, 3)"
      ]
     },
     "execution_count": 16,
     "metadata": {},
     "output_type": "execute_result"
    }
   ],
   "source": [
    "train_x_physical_units.shape"
   ]
  },
  {
   "cell_type": "code",
   "execution_count": 17,
   "metadata": {},
   "outputs": [
    {
     "data": {
      "text/plain": [
       "array([[[[-2.57286251e+00,  0.00000000e+00,  2.22000000e-16],\n",
       "         [-2.57286251e+00,  0.00000000e+00,  1.15075268e+00]],\n",
       "\n",
       "        [[-2.57286251e+00,  3.70000000e+06,  2.22000000e-16],\n",
       "         [-2.57286251e+00,  3.70000000e+06,  1.15075268e+00]]],\n",
       "\n",
       "\n",
       "       [[[-2.31557625e+00,  0.00000000e+00,  2.22000000e-16],\n",
       "         [-2.31557625e+00,  0.00000000e+00,  1.15075268e+00]],\n",
       "\n",
       "        [[-2.31557625e+00,  3.70000000e+06,  2.22000000e-16],\n",
       "         [-2.31557625e+00,  3.70000000e+06,  1.15075268e+00]]],\n",
       "\n",
       "\n",
       "       [[[-2.05829000e+00,  0.00000000e+00,  2.22000000e-16],\n",
       "         [-2.05829000e+00,  0.00000000e+00,  1.15075268e+00]],\n",
       "\n",
       "        [[-2.05829000e+00,  3.70000000e+06,  2.22000000e-16],\n",
       "         [-2.05829000e+00,  3.70000000e+06,  1.15075268e+00]]],\n",
       "\n",
       "\n",
       "       [[[-1.80100375e+00,  0.00000000e+00,  2.22000000e-16],\n",
       "         [-1.80100375e+00,  0.00000000e+00,  1.15075268e+00]],\n",
       "\n",
       "        [[-1.80100375e+00,  3.70000000e+06,  2.22000000e-16],\n",
       "         [-1.80100375e+00,  3.70000000e+06,  1.15075268e+00]]],\n",
       "\n",
       "\n",
       "       [[[-1.54371750e+00,  0.00000000e+00,  2.22000000e-16],\n",
       "         [-1.54371750e+00,  0.00000000e+00,  1.15075268e+00]],\n",
       "\n",
       "        [[-1.54371750e+00,  3.70000000e+06,  2.22000000e-16],\n",
       "         [-1.54371750e+00,  3.70000000e+06,  1.15075268e+00]]],\n",
       "\n",
       "\n",
       "       [[[-1.28643125e+00,  0.00000000e+00,  2.22000000e-16],\n",
       "         [-1.28643125e+00,  0.00000000e+00,  1.15075268e+00]],\n",
       "\n",
       "        [[-1.28643125e+00,  3.70000000e+06,  2.22000000e-16],\n",
       "         [-1.28643125e+00,  3.70000000e+06,  1.15075268e+00]]],\n",
       "\n",
       "\n",
       "       [[[-1.02914500e+00,  0.00000000e+00,  2.22000000e-16],\n",
       "         [-1.02914500e+00,  0.00000000e+00,  1.15075268e+00]],\n",
       "\n",
       "        [[-1.02914500e+00,  3.70000000e+06,  2.22000000e-16],\n",
       "         [-1.02914500e+00,  3.70000000e+06,  1.15075268e+00]]],\n",
       "\n",
       "\n",
       "       [[[-7.71858752e-01,  0.00000000e+00,  2.22000000e-16],\n",
       "         [-7.71858752e-01,  0.00000000e+00,  1.15075268e+00]],\n",
       "\n",
       "        [[-7.71858752e-01,  3.70000000e+06,  2.22000000e-16],\n",
       "         [-7.71858752e-01,  3.70000000e+06,  1.15075268e+00]]],\n",
       "\n",
       "\n",
       "       [[[-5.14572501e-01,  0.00000000e+00,  2.22000000e-16],\n",
       "         [-5.14572501e-01,  0.00000000e+00,  1.15075268e+00]],\n",
       "\n",
       "        [[-5.14572501e-01,  3.70000000e+06,  2.22000000e-16],\n",
       "         [-5.14572501e-01,  3.70000000e+06,  1.15075268e+00]]],\n",
       "\n",
       "\n",
       "       [[[-2.57286251e-01,  0.00000000e+00,  2.22000000e-16],\n",
       "         [-2.57286251e-01,  0.00000000e+00,  1.15075268e+00]],\n",
       "\n",
       "        [[-2.57286251e-01,  3.70000000e+06,  2.22000000e-16],\n",
       "         [-2.57286251e-01,  3.70000000e+06,  1.15075268e+00]]],\n",
       "\n",
       "\n",
       "       [[[ 0.00000000e+00,  0.00000000e+00,  2.22000000e-16],\n",
       "         [ 0.00000000e+00,  0.00000000e+00,  1.15075268e+00]],\n",
       "\n",
       "        [[ 0.00000000e+00,  3.70000000e+06,  2.22000000e-16],\n",
       "         [ 0.00000000e+00,  3.70000000e+06,  1.15075268e+00]]],\n",
       "\n",
       "\n",
       "       [[[ 2.57286251e-01,  0.00000000e+00,  2.22000000e-16],\n",
       "         [ 2.57286251e-01,  0.00000000e+00,  1.15075268e+00]],\n",
       "\n",
       "        [[ 2.57286251e-01,  3.70000000e+06,  2.22000000e-16],\n",
       "         [ 2.57286251e-01,  3.70000000e+06,  1.15075268e+00]]],\n",
       "\n",
       "\n",
       "       [[[ 5.14572501e-01,  0.00000000e+00,  2.22000000e-16],\n",
       "         [ 5.14572501e-01,  0.00000000e+00,  1.15075268e+00]],\n",
       "\n",
       "        [[ 5.14572501e-01,  3.70000000e+06,  2.22000000e-16],\n",
       "         [ 5.14572501e-01,  3.70000000e+06,  1.15075268e+00]]],\n",
       "\n",
       "\n",
       "       [[[ 7.71858752e-01,  0.00000000e+00,  2.22000000e-16],\n",
       "         [ 7.71858752e-01,  0.00000000e+00,  1.15075268e+00]],\n",
       "\n",
       "        [[ 7.71858752e-01,  3.70000000e+06,  2.22000000e-16],\n",
       "         [ 7.71858752e-01,  3.70000000e+06,  1.15075268e+00]]],\n",
       "\n",
       "\n",
       "       [[[ 1.02914500e+00,  0.00000000e+00,  2.22000000e-16],\n",
       "         [ 1.02914500e+00,  0.00000000e+00,  1.15075268e+00]],\n",
       "\n",
       "        [[ 1.02914500e+00,  3.70000000e+06,  2.22000000e-16],\n",
       "         [ 1.02914500e+00,  3.70000000e+06,  1.15075268e+00]]],\n",
       "\n",
       "\n",
       "       [[[ 1.28643125e+00,  0.00000000e+00,  2.22000000e-16],\n",
       "         [ 1.28643125e+00,  0.00000000e+00,  1.15075268e+00]],\n",
       "\n",
       "        [[ 1.28643125e+00,  3.70000000e+06,  2.22000000e-16],\n",
       "         [ 1.28643125e+00,  3.70000000e+06,  1.15075268e+00]]],\n",
       "\n",
       "\n",
       "       [[[ 1.54371750e+00,  0.00000000e+00,  2.22000000e-16],\n",
       "         [ 1.54371750e+00,  0.00000000e+00,  1.15075268e+00]],\n",
       "\n",
       "        [[ 1.54371750e+00,  3.70000000e+06,  2.22000000e-16],\n",
       "         [ 1.54371750e+00,  3.70000000e+06,  1.15075268e+00]]],\n",
       "\n",
       "\n",
       "       [[[ 1.80100375e+00,  0.00000000e+00,  2.22000000e-16],\n",
       "         [ 1.80100375e+00,  0.00000000e+00,  1.15075268e+00]],\n",
       "\n",
       "        [[ 1.80100375e+00,  3.70000000e+06,  2.22000000e-16],\n",
       "         [ 1.80100375e+00,  3.70000000e+06,  1.15075268e+00]]],\n",
       "\n",
       "\n",
       "       [[[ 2.05829000e+00,  0.00000000e+00,  2.22000000e-16],\n",
       "         [ 2.05829000e+00,  0.00000000e+00,  1.15075268e+00]],\n",
       "\n",
       "        [[ 2.05829000e+00,  3.70000000e+06,  2.22000000e-16],\n",
       "         [ 2.05829000e+00,  3.70000000e+06,  1.15075268e+00]]],\n",
       "\n",
       "\n",
       "       [[[ 2.31557625e+00,  0.00000000e+00,  2.22000000e-16],\n",
       "         [ 2.31557625e+00,  0.00000000e+00,  1.15075268e+00]],\n",
       "\n",
       "        [[ 2.31557625e+00,  3.70000000e+06,  2.22000000e-16],\n",
       "         [ 2.31557625e+00,  3.70000000e+06,  1.15075268e+00]]],\n",
       "\n",
       "\n",
       "       [[[ 2.57286251e+00,  0.00000000e+00,  2.22000000e-16],\n",
       "         [ 2.57286251e+00,  0.00000000e+00,  1.15075268e+00]],\n",
       "\n",
       "        [[ 2.57286251e+00,  3.70000000e+06,  2.22000000e-16],\n",
       "         [ 2.57286251e+00,  3.70000000e+06,  1.15075268e+00]]]])"
      ]
     },
     "execution_count": 17,
     "metadata": {},
     "output_type": "execute_result"
    }
   ],
   "source": [
    "# sort\n",
    "train_x_physical_units.sort(axis=0)\n",
    "train_x_physical_units"
   ]
  },
  {
   "cell_type": "code",
   "execution_count": 18,
   "metadata": {
    "ExecuteTime": {
     "end_time": "2023-11-29T20:00:04.276675400Z",
     "start_time": "2023-11-29T20:00:04.236593600Z"
    },
    "collapsed": false,
    "jupyter": {
     "outputs_hidden": false
    }
   },
   "outputs": [
    {
     "data": {
      "text/plain": [
       "(21, 2, 2, 10, 700, 700)"
      ]
     },
     "execution_count": 18,
     "metadata": {},
     "output_type": "execute_result"
    }
   ],
   "source": [
    "train_y.shape"
   ]
  },
  {
   "cell_type": "code",
   "execution_count": 19,
   "metadata": {},
   "outputs": [
    {
     "data": {
      "text/plain": [
       "array([[ 59, 499]])"
      ]
     },
     "execution_count": 19,
     "metadata": {},
     "output_type": "execute_result"
    }
   ],
   "source": [
    "# see if ref img is saturated\n",
    "np.argwhere(train_y[10,0,0][0] == np.amax(train_y[10,0,0][0]))"
   ]
  },
  {
   "cell_type": "code",
   "execution_count": 20,
   "metadata": {
    "ExecuteTime": {
     "end_time": "2023-11-29T20:00:04.282621500Z",
     "start_time": "2023-11-29T20:00:04.265621Z"
    },
    "collapsed": false,
    "jupyter": {
     "outputs_hidden": false
    }
   },
   "outputs": [],
   "source": [
    "from skimage import filters\n",
    "from scipy.ndimage import median_filter\n",
    "def postprocessing(\n",
    "        raw_images, \n",
    "        normalization_factor=1.0, \n",
    "        threshold_multiplier=0.25, \n",
    "        median_filter_size=10, \n",
    "        verbose=False\n",
    "    ):\n",
    "    pp_images = np.zeros_like(raw_images)\n",
    "    for i, raw_image in enumerate(raw_images):\n",
    "        # mirror x axis:\n",
    "        image = np.flip(raw_image, axis=1)\n",
    "\n",
    "        # triangle threshold:\n",
    "        thresh = filters.threshold_triangle(image) * threshold_multiplier\n",
    "        image = np.clip(image - thresh, 0, None)\n",
    "\n",
    "        # median filter:\n",
    "        image = median_filter(image, median_filter_size)\n",
    "        \n",
    "        # normalize:\n",
    "        image = image / normalization_factor\n",
    "\n",
    "        if verbose:\n",
    "            print(f'image {i}')\n",
    "            print('nonzero:')\n",
    "            plt.imshow(image > 0, interpolation='none')\n",
    "            plt.show()\n",
    "            \n",
    "        # save postprocessed image into array:\n",
    "        pp_images[i] = image\n",
    "\n",
    "    return pp_images\n",
    "\n",
    "def calc_centers(images):\n",
    "    x_centers = np.zeros(len(images))\n",
    "    y_centers = np.zeros(len(images))\n",
    "    for i, image in enumerate(images):\n",
    "        # calculate centroid\n",
    "        norm_img = image / image.sum()\n",
    "        y_centers[i] = (np.sum(norm_img, axis=1) * np.arange(norm_img.shape[0])).sum()\n",
    "        x_centers[i] = (np.sum(norm_img, axis=0) * np.arange(norm_img.shape[1])).sum()\n",
    "    return x_centers, y_centers"
   ]
  },
  {
   "cell_type": "code",
   "execution_count": 21,
   "metadata": {},
   "outputs": [
    {
     "name": "stdout",
     "output_type": "stream",
     "text": [
      "image 0\n",
      "nonzero:\n"
     ]
    },
    {
     "data": {
      "image/png": "[encoded data removed]",
      "text/plain": [
       "<Figure size 640x480 with 1 Axes>"
      ]
     },
     "metadata": {},
     "output_type": "display_data"
    },
    {
     "name": "stdout",
     "output_type": "stream",
     "text": [
      "image 1\n",
      "nonzero:\n"
     ]
    },
    {
     "data": {
      "image/png": "[encoded data removed]",
      "text/plain": [
       "<Figure size 640x480 with 1 Axes>"
      ]
     },
     "metadata": {},
     "output_type": "display_data"
    },
    {
     "name": "stdout",
     "output_type": "stream",
     "text": [
      "image 2\n",
      "nonzero:\n"
     ]
    },
    {
     "data": {
      "image/png": "[encoded data removed]",
      "text/plain": [
       "<Figure size 640x480 with 1 Axes>"
      ]
     },
     "metadata": {},
     "output_type": "display_data"
    },
    {
     "name": "stdout",
     "output_type": "stream",
     "text": [
      "image 3\n",
      "nonzero:\n"
     ]
    },
    {
     "data": {
      "image/png": "[encoded data removed]",
      "text/plain": [
       "<Figure size 640x480 with 1 Axes>"
      ]
     },
     "metadata": {},
     "output_type": "display_data"
    },
    {
     "name": "stdout",
     "output_type": "stream",
     "text": [
      "image 4\n",
      "nonzero:\n"
     ]
    },
    {
     "data": {
      "image/png": "[encoded data removed]",
      "text/plain": [
       "<Figure size 640x480 with 1 Axes>"
      ]
     },
     "metadata": {},
     "output_type": "display_data"
    },
    {
     "name": "stdout",
     "output_type": "stream",
     "text": [
      "image 5\n",
      "nonzero:\n"
     ]
    },
    {
     "data": {
      "image/png": "[encoded data removed]",
      "text/plain": [
       "<Figure size 640x480 with 1 Axes>"
      ]
     },
     "metadata": {},
     "output_type": "display_data"
    },
    {
     "name": "stdout",
     "output_type": "stream",
     "text": [
      "image 6\n",
      "nonzero:\n"
     ]
    },
    {
     "data": {
      "image/png": "[encoded data removed]",
      "text/plain": [
       "<Figure size 640x480 with 1 Axes>"
      ]
     },
     "metadata": {},
     "output_type": "display_data"
    },
    {
     "name": "stdout",
     "output_type": "stream",
     "text": [
      "image 7\n",
      "nonzero:\n"
     ]
    },
    {
     "data": {
      "image/png": "[encoded data removed]",
      "text/plain": [
       "<Figure size 640x480 with 1 Axes>"
      ]
     },
     "metadata": {},
     "output_type": "display_data"
    },
    {
     "name": "stdout",
     "output_type": "stream",
     "text": [
      "image 8\n",
      "nonzero:\n"
     ]
    },
    {
     "data": {
      "image/png": "[encoded data removed]",
      "text/plain": [
       "<Figure size 640x480 with 1 Axes>"
      ]
     },
     "metadata": {},
     "output_type": "display_data"
    },
    {
     "name": "stdout",
     "output_type": "stream",
     "text": [
      "image 9\n",
      "nonzero:\n"
     ]
    },
    {
     "data": {
      "image/png": "[encoded data removed]",
      "text/plain": [
       "<Figure size 640x480 with 1 Axes>"
      ]
     },
     "metadata": {},
     "output_type": "display_data"
    },
    {
     "name": "stdout",
     "output_type": "stream",
     "text": [
      "3896645.9828124996\n",
      "image 0\n",
      "nonzero:\n"
     ]
    },
    {
     "data": {
      "image/png": "[encoded data removed]",
      "text/plain": [
       "<Figure size 640x480 with 1 Axes>"
      ]
     },
     "metadata": {},
     "output_type": "display_data"
    },
    {
     "name": "stdout",
     "output_type": "stream",
     "text": [
      "image 1\n",
      "nonzero:\n"
     ]
    },
    {
     "data": {
      "image/png": "[encoded data removed]",
      "text/plain": [
       "<Figure size 640x480 with 1 Axes>"
      ]
     },
     "metadata": {},
     "output_type": "display_data"
    },
    {
     "name": "stdout",
     "output_type": "stream",
     "text": [
      "image 2\n",
      "nonzero:\n"
     ]
    },
    {
     "data": {
      "image/png": "[encoded data removed]",
      "text/plain": [
       "<Figure size 640x480 with 1 Axes>"
      ]
     },
     "metadata": {},
     "output_type": "display_data"
    },
    {
     "name": "stdout",
     "output_type": "stream",
     "text": [
      "image 3\n",
      "nonzero:\n"
     ]
    },
    {
     "data": {
      "image/png": "[encoded data removed]",
      "text/plain": [
       "<Figure size 640x480 with 1 Axes>"
      ]
     },
     "metadata": {},
     "output_type": "display_data"
    },
    {
     "name": "stdout",
     "output_type": "stream",
     "text": [
      "image 4\n",
      "nonzero:\n"
     ]
    },
    {
     "data": {
      "image/png": "[encoded data removed]",
      "text/plain": [
       "<Figure size 640x480 with 1 Axes>"
      ]
     },
     "metadata": {},
     "output_type": "display_data"
    },
    {
     "name": "stdout",
     "output_type": "stream",
     "text": [
      "image 5\n",
      "nonzero:\n"
     ]
    },
    {
     "data": {
      "image/png": "[encoded data removed]",
      "text/plain": [
       "<Figure size 640x480 with 1 Axes>"
      ]
     },
     "metadata": {},
     "output_type": "display_data"
    },
    {
     "name": "stdout",
     "output_type": "stream",
     "text": [
      "image 6\n",
      "nonzero:\n"
     ]
    },
    {
     "data": {
      "image/png": "[encoded data removed]",
      "text/plain": [
       "<Figure size 640x480 with 1 Axes>"
      ]
     },
     "metadata": {},
     "output_type": "display_data"
    },
    {
     "name": "stdout",
     "output_type": "stream",
     "text": [
      "image 7\n",
      "nonzero:\n"
     ]
    },
    {
     "data": {
      "image/png": "[encoded data removed]",
      "text/plain": [
       "<Figure size 640x480 with 1 Axes>"
      ]
     },
     "metadata": {},
     "output_type": "display_data"
    },
    {
     "name": "stdout",
     "output_type": "stream",
     "text": [
      "image 8\n",
      "nonzero:\n"
     ]
    },
    {
     "data": {
      "image/png": "[encoded data removed]",
      "text/plain": [
       "<Figure size 640x480 with 1 Axes>"
      ]
     },
     "metadata": {},
     "output_type": "display_data"
    },
    {
     "name": "stdout",
     "output_type": "stream",
     "text": [
      "image 9\n",
      "nonzero:\n"
     ]
    },
    {
     "data": {
      "image/png": "[encoded data removed]",
      "text/plain": [
       "<Figure size 640x480 with 1 Axes>"
      ]
     },
     "metadata": {},
     "output_type": "display_data"
    },
    {
     "name": "stdout",
     "output_type": "stream",
     "text": [
      "3105148.6515625\n"
     ]
    }
   ],
   "source": [
    "# referennce normalization factor for YAG 14 and 15\n",
    "reference_img_dyg14 = postprocessing(train_y[10,0,0], verbose=True)\n",
    "norm_dyg14 = reference_img_dyg14.sum(axis=(-1,-2)).max()\n",
    "print(norm_dyg14)\n",
    "reference_img_dyg15 = postprocessing(train_y[10,0,1], verbose=True)\n",
    "norm_dyg15 = reference_img_dyg15.sum(axis=(-1,-2)).max()\n",
    "print(norm_dyg15)"
   ]
  },
  {
   "cell_type": "code",
   "execution_count": 22,
   "metadata": {},
   "outputs": [],
   "source": [
    "train_y_pp = np.zeros((train_y.shape[0], train_y.shape[1], train_y.shape[2], 3, train_y.shape[4], train_y.shape[5]))\n",
    "x_centers = np.zeros((train_y.shape[0], train_y.shape[1], train_y.shape[2], 3))\n",
    "y_centers = np.zeros((train_y.shape[0], train_y.shape[1], train_y.shape[2], 3))\n",
    "\n",
    "n_ks = train_y.shape[0]\n",
    "n_vs = train_y.shape[1]\n",
    "n_gs = train_y.shape[2]\n",
    "\n",
    "for g in range(n_gs):\n",
    "    if g==0:\n",
    "        norm = norm_dyg14\n",
    "    else:    \n",
    "        norm = norm_dyg15\n",
    "\n",
    "    for v in range(n_vs):\n",
    "        for k in range(n_ks):\n",
    "            pp_imgs = postprocessing(train_y[k,v,g], norm)\n",
    "            intensities = pp_imgs.sum(axis=(-1,-2))\n",
    "            top3_ind = np.argpartition(intensities, -3)[-3:]\n",
    "            top3_imgs = pp_imgs[top3_ind]\n",
    "            train_y_pp[k,v,g] = top3_imgs\n",
    "            x_centers[k,v,g], y_centers[k,v,g] = calc_centers(top3_imgs)\n",
    "            "
   ]
  },
  {
   "cell_type": "code",
   "execution_count": 26,
   "metadata": {},
   "outputs": [],
   "source": [
    "# remove first and last two quad strengths\n",
    "train_y_pp_2 = train_y_pp[2:-2,:,:,:,:,:]\n",
    "train_x_physical_units_2 = train_x_physical_units[2:-2,:,:,:]\n",
    "x_centers_2 = x_centers[2:-2,:,:,:]\n",
    "y_centers_2 = y_centers[2:-2,:,:,:]"
   ]
  },
  {
   "cell_type": "code",
   "execution_count": 44,
   "metadata": {},
   "outputs": [
    {
     "data": {
      "image/png": "[encoded data removed]",
      "text/plain": [
       "<Figure size 640x480 with 2 Axes>"
      ]
     },
     "metadata": {},
     "output_type": "display_data"
    }
   ],
   "source": [
    "prop_cycle = plt.rcParams['axes.prop_cycle']\n",
    "colors = prop_cycle.by_key()['color']\n",
    "fig, ax = plt.subplots(2)\n",
    "i_color = 0\n",
    "factor_1 = 50/1158\n",
    "factor_2 = 50/1298\n",
    "for v in range(n_vs):\n",
    "    for g in range(n_gs):\n",
    "        color1 = colors[i_color]\n",
    "        color2 = colors[i_color]\n",
    "        if g==0:\n",
    "            factor = factor_1\n",
    "            label = 'Dipole Off'\n",
    "        else:\n",
    "            factor = factor_2\n",
    "            label = 'Dipole On'\n",
    "        if v==0:\n",
    "            label += ', TDC Off'\n",
    "        else:\n",
    "            label += ', TDC On'\n",
    "        ax[0].plot(train_x_physical_units_2[:,v,g,0], x_centers_2[:,v,g]*factor, 'o', color=color1, label=label)\n",
    "        ax[1].plot(train_x_physical_units_2[:,v,g,0], y_centers_2[:,v,g]*factor, 'o', color=color2, label=label)\n",
    "        i_color += 1\n",
    "ax[0].set_ylabel('x center (mm)')\n",
    "ax[1].set_ylabel('y center (mm)')\n",
    "ax[1].set_xlabel('quad strength (k)')\n",
    "plt.legend()\n",
    "plt.show()"
   ]
  },
  {
   "cell_type": "code",
   "execution_count": null,
   "metadata": {},
   "outputs": [],
   "source": [
    "#visualize final images\n",
    "for g in range(n_gs):\n",
    "    for v in range(n_vs):\n",
    "        for k in range(n_ks-4):\n",
    "            print('--------')\n",
    "            print(train_x_physical_units_2[k,v,g])\n",
    "            for i, img in enumerate(train_y_pp_2[k,v,g]):\n",
    "                print(f'image: {i}')\n",
    "                plt.imshow(img, interpolation='none')\n",
    "                plt.show()"
   ]
  },
  {
   "cell_type": "code",
   "execution_count": null,
   "metadata": {},
   "outputs": [],
   "source": [
    "# save as image dset\n",
    "import torch\n",
    "from phase_space_reconstruction.modeling import ImageDataset3D\n",
    "#transpose images so that x,y are in the correct order for the last two dimensions:\n",
    "train_y_pp_2_t = train_y_pp_2.transpose([0,1,2,3,5,4])\n",
    "dset = ImageDataset3D(\n",
    "    torch.tensor(train_x_physical_units_2),\n",
    "    torch.tensor(train_y_pp_2_t))\n",
    "torch.save(dset, os.path.join(data_path,'dset_3d_12_07_full_scan.pt'))"
   ]
  },
  {
   "cell_type": "code",
   "execution_count": null,
   "metadata": {},
   "outputs": [],
   "source": [
    "a = np.array([[1,2,3],[4,5,6]])\n",
    "plt.imshow(a, interpolation='none')"
   ]
  },
  {
   "cell_type": "code",
   "execution_count": null,
   "metadata": {},
   "outputs": [],
   "source": []
  }
 ],
 "metadata": {
  "kernelspec": {
   "display_name": "Python 3 (ipykernel)",
   "language": "python",
   "name": "python3"
  },
  "language_info": {
   "codemirror_mode": {
    "name": "ipython",
    "version": 3
   },
   "file_extension": ".py",
   "mimetype": "text/x-python",
   "name": "python",
   "nbconvert_exporter": "python",
   "pygments_lexer": "ipython3",
   "version": "3.10.12"
  }
 },
 "nbformat": 4,
 "nbformat_minor": 4
}
